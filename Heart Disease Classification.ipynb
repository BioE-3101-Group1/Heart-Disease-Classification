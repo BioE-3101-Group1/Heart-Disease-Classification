{
 "cells": [
  {
   "cell_type": "markdown",
   "id": "6f44b216-fbce-45d0-b16a-cbaf756bb63e",
   "metadata": {
    "tags": []
   },
   "source": [
    "# Data columns desc\n",
    "\n",
    "* age = age in years  \n",
    "* sex = (1 = male; 0 = female)  \n",
    "* cp= chest pain type  \n",
    "* trestbps= resting blood pressure (in mm Hg on admission to the hospital)  \n",
    "* chol = serum cholestoral in mg/dl  \n",
    "* fbs = ( fasting blood sugar > 120 mg/dl) (1 = true; 0 = false)  \n",
    "* restecg = resting electrocardiographic results  \n",
    "* thalach = maximum heart rate achieved  \n",
    "* exang = exercise induced angina (1 = yes; 0 = no)  \n",
    "* oldpeak = ST depression induced by exercise relative to rest  \n",
    "* slope = the slope of the peak exercise ST segment  \n",
    "* ca = number of major vessels (0-3) colored by flourosopy  \n",
    "* thal3 = normal; 6 = fixed defect; 7 = reversable defect  \n",
    "* target = 1 or 0  "
   ]
  },
  {
   "cell_type": "code",
   "execution_count": null,
   "id": "7aa75169-4932-4308-8f4e-6886fd3d3e4f",
   "metadata": {
    "tags": []
   },
   "outputs": [],
   "source": [
    "import numpy as np # linear algebra\n",
    "import pandas as pd # data processing, CSV file I/O (e.g. pd.read_csv)\n",
    "import matplotlib.pyplot as plt\n",
    "import seaborn as sns\n",
    "from sklearn.model_selection import train_test_split,KFold,cross_val_score,KFold\n",
    "from collections import Counter\n",
    "import os\n",
    "from sklearn.preprocessing import StandardScaler\n",
    "from sklearn.svm import SVC\n",
    "from sklearn.ensemble import RandomForestClassifier,AdaBoostClassifier,GradientBoostingClassifier\n",
    "import xgboost as xgb\n",
    "from sklearn.metrics import accuracy_score \n",
    "import warnings\n",
    "warnings.filterwarnings(\"ignore\")\n",
    "%matplotlib inline"
   ]
  },
  {
   "cell_type": "code",
   "execution_count": 112,
   "id": "24d22fb2-3470-4701-ae2b-ef70b4e21b8f",
   "metadata": {
    "tags": []
   },
   "outputs": [],
   "source": [
    "data = pd.read_csv('Heart Disease Dataset.csv')"
   ]
  },
  {
   "cell_type": "code",
   "execution_count": 22,
   "id": "30dbba7b-5ead-47ce-a3ee-b4f242891853",
   "metadata": {
    "tags": []
   },
   "outputs": [
    {
     "data": {
      "text/html": [
       "<div>\n",
       "<style scoped>\n",
       "    .dataframe tbody tr th:only-of-type {\n",
       "        vertical-align: middle;\n",
       "    }\n",
       "\n",
       "    .dataframe tbody tr th {\n",
       "        vertical-align: top;\n",
       "    }\n",
       "\n",
       "    .dataframe thead th {\n",
       "        text-align: right;\n",
       "    }\n",
       "</style>\n",
       "<table border=\"1\" class=\"dataframe\">\n",
       "  <thead>\n",
       "    <tr style=\"text-align: right;\">\n",
       "      <th></th>\n",
       "      <th>age</th>\n",
       "      <th>sex</th>\n",
       "      <th>cp</th>\n",
       "      <th>trestbps</th>\n",
       "      <th>chol</th>\n",
       "      <th>fbs</th>\n",
       "      <th>restecg</th>\n",
       "      <th>thalach</th>\n",
       "      <th>exang</th>\n",
       "      <th>oldpeak</th>\n",
       "      <th>slope</th>\n",
       "      <th>ca</th>\n",
       "      <th>thal</th>\n",
       "      <th>target</th>\n",
       "    </tr>\n",
       "  </thead>\n",
       "  <tbody>\n",
       "    <tr>\n",
       "      <th>0</th>\n",
       "      <td>63</td>\n",
       "      <td>1</td>\n",
       "      <td>3</td>\n",
       "      <td>145</td>\n",
       "      <td>233</td>\n",
       "      <td>1</td>\n",
       "      <td>0</td>\n",
       "      <td>150</td>\n",
       "      <td>0</td>\n",
       "      <td>2.3</td>\n",
       "      <td>0</td>\n",
       "      <td>0</td>\n",
       "      <td>1</td>\n",
       "      <td>1</td>\n",
       "    </tr>\n",
       "    <tr>\n",
       "      <th>1</th>\n",
       "      <td>37</td>\n",
       "      <td>1</td>\n",
       "      <td>2</td>\n",
       "      <td>130</td>\n",
       "      <td>250</td>\n",
       "      <td>0</td>\n",
       "      <td>1</td>\n",
       "      <td>187</td>\n",
       "      <td>0</td>\n",
       "      <td>3.5</td>\n",
       "      <td>0</td>\n",
       "      <td>0</td>\n",
       "      <td>2</td>\n",
       "      <td>1</td>\n",
       "    </tr>\n",
       "    <tr>\n",
       "      <th>2</th>\n",
       "      <td>41</td>\n",
       "      <td>0</td>\n",
       "      <td>1</td>\n",
       "      <td>130</td>\n",
       "      <td>204</td>\n",
       "      <td>0</td>\n",
       "      <td>0</td>\n",
       "      <td>172</td>\n",
       "      <td>0</td>\n",
       "      <td>1.4</td>\n",
       "      <td>2</td>\n",
       "      <td>0</td>\n",
       "      <td>2</td>\n",
       "      <td>1</td>\n",
       "    </tr>\n",
       "    <tr>\n",
       "      <th>3</th>\n",
       "      <td>56</td>\n",
       "      <td>1</td>\n",
       "      <td>1</td>\n",
       "      <td>120</td>\n",
       "      <td>236</td>\n",
       "      <td>0</td>\n",
       "      <td>1</td>\n",
       "      <td>178</td>\n",
       "      <td>0</td>\n",
       "      <td>0.8</td>\n",
       "      <td>2</td>\n",
       "      <td>0</td>\n",
       "      <td>2</td>\n",
       "      <td>1</td>\n",
       "    </tr>\n",
       "    <tr>\n",
       "      <th>4</th>\n",
       "      <td>57</td>\n",
       "      <td>0</td>\n",
       "      <td>0</td>\n",
       "      <td>120</td>\n",
       "      <td>354</td>\n",
       "      <td>0</td>\n",
       "      <td>1</td>\n",
       "      <td>163</td>\n",
       "      <td>1</td>\n",
       "      <td>0.6</td>\n",
       "      <td>2</td>\n",
       "      <td>0</td>\n",
       "      <td>2</td>\n",
       "      <td>1</td>\n",
       "    </tr>\n",
       "  </tbody>\n",
       "</table>\n",
       "</div>"
      ],
      "text/plain": [
       "   age  sex  cp  trestbps  chol  fbs  restecg  thalach  exang  oldpeak  slope  \\\n",
       "0   63    1   3       145   233    1        0      150      0      2.3      0   \n",
       "1   37    1   2       130   250    0        1      187      0      3.5      0   \n",
       "2   41    0   1       130   204    0        0      172      0      1.4      2   \n",
       "3   56    1   1       120   236    0        1      178      0      0.8      2   \n",
       "4   57    0   0       120   354    0        1      163      1      0.6      2   \n",
       "\n",
       "   ca  thal  target  \n",
       "0   0     1       1  \n",
       "1   0     2       1  \n",
       "2   0     2       1  \n",
       "3   0     2       1  \n",
       "4   0     2       1  "
      ]
     },
     "execution_count": 22,
     "metadata": {},
     "output_type": "execute_result"
    }
   ],
   "source": [
    "data.head()"
   ]
  },
  {
   "cell_type": "code",
   "execution_count": 23,
   "id": "03ef9458-5503-43e1-9dbe-c0f91c6ee133",
   "metadata": {
    "tags": []
   },
   "outputs": [
    {
     "data": {
      "text/plain": [
       "target\n",
       "1    165\n",
       "0    138\n",
       "Name: count, dtype: int64"
      ]
     },
     "execution_count": 23,
     "metadata": {},
     "output_type": "execute_result"
    }
   ],
   "source": [
    "data['target'].value_counts()"
   ]
  },
  {
   "cell_type": "code",
   "execution_count": 25,
   "id": "4a08452a-9be2-40e6-9d61-5a72cdfb9d5a",
   "metadata": {
    "tags": []
   },
   "outputs": [
    {
     "data": {
      "text/plain": [
       "<Axes: xlabel='target', ylabel='count'>"
      ]
     },
     "execution_count": 25,
     "metadata": {},
     "output_type": "execute_result"
    },
    {
     "data": {
      "image/png": "[encoded data removed]",
      "text/plain": [
       "<Figure size 640x480 with 1 Axes>"
      ]
     },
     "metadata": {},
     "output_type": "display_data"
    }
   ],
   "source": [
    "sns.countplot(x='target',data=data)"
   ]
  },
  {
   "cell_type": "markdown",
   "id": "e7683f3a-5abd-4f25-b813-3c9da1436369",
   "metadata": {},
   "source": [
    "##### _The target is balanced_\n",
    "\n",
    "##### _Explore data_"
   ]
  },
  {
   "cell_type": "code",
   "execution_count": 26,
   "id": "af0d220a-9f4a-44de-b742-c2b49f533ed5",
   "metadata": {
    "tags": []
   },
   "outputs": [
    {
     "name": "stdout",
     "output_type": "stream",
     "text": [
      "<class 'pandas.core.frame.DataFrame'>\n",
      "RangeIndex: 303 entries, 0 to 302\n",
      "Data columns (total 14 columns):\n",
      " #   Column    Non-Null Count  Dtype  \n",
      "---  ------    --------------  -----  \n",
      " 0   age       303 non-null    int64  \n",
      " 1   sex       303 non-null    int64  \n",
      " 2   cp        303 non-null    int64  \n",
      " 3   trestbps  303 non-null    int64  \n",
      " 4   chol      303 non-null    int64  \n",
      " 5   fbs       303 non-null    int64  \n",
      " 6   restecg   303 non-null    int64  \n",
      " 7   thalach   303 non-null    int64  \n",
      " 8   exang     303 non-null    int64  \n",
      " 9   oldpeak   303 non-null    float64\n",
      " 10  slope     303 non-null    int64  \n",
      " 11  ca        303 non-null    int64  \n",
      " 12  thal      303 non-null    int64  \n",
      " 13  target    303 non-null    int64  \n",
      "dtypes: float64(1), int64(13)\n",
      "memory usage: 33.3 KB\n"
     ]
    }
   ],
   "source": [
    "data.info()"
   ]
  },
  {
   "cell_type": "code",
   "execution_count": 27,
   "id": "c4617237-21ed-4236-b38f-4b99c7f35a54",
   "metadata": {
    "tags": []
   },
   "outputs": [
    {
     "data": {
      "text/html": [
       "<div>\n",
       "<style scoped>\n",
       "    .dataframe tbody tr th:only-of-type {\n",
       "        vertical-align: middle;\n",
       "    }\n",
       "\n",
       "    .dataframe tbody tr th {\n",
       "        vertical-align: top;\n",
       "    }\n",
       "\n",
       "    .dataframe thead th {\n",
       "        text-align: right;\n",
       "    }\n",
       "</style>\n",
       "<table border=\"1\" class=\"dataframe\">\n",
       "  <thead>\n",
       "    <tr style=\"text-align: right;\">\n",
       "      <th></th>\n",
       "      <th>age</th>\n",
       "      <th>sex</th>\n",
       "      <th>cp</th>\n",
       "      <th>trestbps</th>\n",
       "      <th>chol</th>\n",
       "      <th>fbs</th>\n",
       "      <th>restecg</th>\n",
       "      <th>thalach</th>\n",
       "      <th>exang</th>\n",
       "      <th>oldpeak</th>\n",
       "      <th>slope</th>\n",
       "      <th>ca</th>\n",
       "      <th>thal</th>\n",
       "      <th>target</th>\n",
       "    </tr>\n",
       "  </thead>\n",
       "  <tbody>\n",
       "    <tr>\n",
       "      <th>count</th>\n",
       "      <td>303.000000</td>\n",
       "      <td>303.000000</td>\n",
       "      <td>303.000000</td>\n",
       "      <td>303.000000</td>\n",
       "      <td>303.000000</td>\n",
       "      <td>303.000000</td>\n",
       "      <td>303.000000</td>\n",
       "      <td>303.000000</td>\n",
       "      <td>303.000000</td>\n",
       "      <td>303.000000</td>\n",
       "      <td>303.000000</td>\n",
       "      <td>303.000000</td>\n",
       "      <td>303.000000</td>\n",
       "      <td>303.000000</td>\n",
       "    </tr>\n",
       "    <tr>\n",
       "      <th>mean</th>\n",
       "      <td>54.366337</td>\n",
       "      <td>0.683168</td>\n",
       "      <td>0.966997</td>\n",
       "      <td>131.623762</td>\n",
       "      <td>246.264026</td>\n",
       "      <td>0.148515</td>\n",
       "      <td>0.528053</td>\n",
       "      <td>149.646865</td>\n",
       "      <td>0.326733</td>\n",
       "      <td>1.039604</td>\n",
       "      <td>1.399340</td>\n",
       "      <td>0.729373</td>\n",
       "      <td>2.313531</td>\n",
       "      <td>0.544554</td>\n",
       "    </tr>\n",
       "    <tr>\n",
       "      <th>std</th>\n",
       "      <td>9.082101</td>\n",
       "      <td>0.466011</td>\n",
       "      <td>1.032052</td>\n",
       "      <td>17.538143</td>\n",
       "      <td>51.830751</td>\n",
       "      <td>0.356198</td>\n",
       "      <td>0.525860</td>\n",
       "      <td>22.905161</td>\n",
       "      <td>0.469794</td>\n",
       "      <td>1.161075</td>\n",
       "      <td>0.616226</td>\n",
       "      <td>1.022606</td>\n",
       "      <td>0.612277</td>\n",
       "      <td>0.498835</td>\n",
       "    </tr>\n",
       "    <tr>\n",
       "      <th>min</th>\n",
       "      <td>29.000000</td>\n",
       "      <td>0.000000</td>\n",
       "      <td>0.000000</td>\n",
       "      <td>94.000000</td>\n",
       "      <td>126.000000</td>\n",
       "      <td>0.000000</td>\n",
       "      <td>0.000000</td>\n",
       "      <td>71.000000</td>\n",
       "      <td>0.000000</td>\n",
       "      <td>0.000000</td>\n",
       "      <td>0.000000</td>\n",
       "      <td>0.000000</td>\n",
       "      <td>0.000000</td>\n",
       "      <td>0.000000</td>\n",
       "    </tr>\n",
       "    <tr>\n",
       "      <th>25%</th>\n",
       "      <td>47.500000</td>\n",
       "      <td>0.000000</td>\n",
       "      <td>0.000000</td>\n",
       "      <td>120.000000</td>\n",
       "      <td>211.000000</td>\n",
       "      <td>0.000000</td>\n",
       "      <td>0.000000</td>\n",
       "      <td>133.500000</td>\n",
       "      <td>0.000000</td>\n",
       "      <td>0.000000</td>\n",
       "      <td>1.000000</td>\n",
       "      <td>0.000000</td>\n",
       "      <td>2.000000</td>\n",
       "      <td>0.000000</td>\n",
       "    </tr>\n",
       "    <tr>\n",
       "      <th>50%</th>\n",
       "      <td>55.000000</td>\n",
       "      <td>1.000000</td>\n",
       "      <td>1.000000</td>\n",
       "      <td>130.000000</td>\n",
       "      <td>240.000000</td>\n",
       "      <td>0.000000</td>\n",
       "      <td>1.000000</td>\n",
       "      <td>153.000000</td>\n",
       "      <td>0.000000</td>\n",
       "      <td>0.800000</td>\n",
       "      <td>1.000000</td>\n",
       "      <td>0.000000</td>\n",
       "      <td>2.000000</td>\n",
       "      <td>1.000000</td>\n",
       "    </tr>\n",
       "    <tr>\n",
       "      <th>75%</th>\n",
       "      <td>61.000000</td>\n",
       "      <td>1.000000</td>\n",
       "      <td>2.000000</td>\n",
       "      <td>140.000000</td>\n",
       "      <td>274.500000</td>\n",
       "      <td>0.000000</td>\n",
       "      <td>1.000000</td>\n",
       "      <td>166.000000</td>\n",
       "      <td>1.000000</td>\n",
       "      <td>1.600000</td>\n",
       "      <td>2.000000</td>\n",
       "      <td>1.000000</td>\n",
       "      <td>3.000000</td>\n",
       "      <td>1.000000</td>\n",
       "    </tr>\n",
       "    <tr>\n",
       "      <th>max</th>\n",
       "      <td>77.000000</td>\n",
       "      <td>1.000000</td>\n",
       "      <td>3.000000</td>\n",
       "      <td>200.000000</td>\n",
       "      <td>564.000000</td>\n",
       "      <td>1.000000</td>\n",
       "      <td>2.000000</td>\n",
       "      <td>202.000000</td>\n",
       "      <td>1.000000</td>\n",
       "      <td>6.200000</td>\n",
       "      <td>2.000000</td>\n",
       "      <td>4.000000</td>\n",
       "      <td>3.000000</td>\n",
       "      <td>1.000000</td>\n",
       "    </tr>\n",
       "  </tbody>\n",
       "</table>\n",
       "</div>"
      ],
      "text/plain": [
       "              age         sex          cp    trestbps        chol         fbs  \\\n",
       "count  303.000000  303.000000  303.000000  303.000000  303.000000  303.000000   \n",
       "mean    54.366337    0.683168    0.966997  131.623762  246.264026    0.148515   \n",
       "std      9.082101    0.466011    1.032052   17.538143   51.830751    0.356198   \n",
       "min     29.000000    0.000000    0.000000   94.000000  126.000000    0.000000   \n",
       "25%     47.500000    0.000000    0.000000  120.000000  211.000000    0.000000   \n",
       "50%     55.000000    1.000000    1.000000  130.000000  240.000000    0.000000   \n",
       "75%     61.000000    1.000000    2.000000  140.000000  274.500000    0.000000   \n",
       "max     77.000000    1.000000    3.000000  200.000000  564.000000    1.000000   \n",
       "\n",
       "          restecg     thalach       exang     oldpeak       slope          ca  \\\n",
       "count  303.000000  303.000000  303.000000  303.000000  303.000000  303.000000   \n",
       "mean     0.528053  149.646865    0.326733    1.039604    1.399340    0.729373   \n",
       "std      0.525860   22.905161    0.469794    1.161075    0.616226    1.022606   \n",
       "min      0.000000   71.000000    0.000000    0.000000    0.000000    0.000000   \n",
       "25%      0.000000  133.500000    0.000000    0.000000    1.000000    0.000000   \n",
       "50%      1.000000  153.000000    0.000000    0.800000    1.000000    0.000000   \n",
       "75%      1.000000  166.000000    1.000000    1.600000    2.000000    1.000000   \n",
       "max      2.000000  202.000000    1.000000    6.200000    2.000000    4.000000   \n",
       "\n",
       "             thal      target  \n",
       "count  303.000000  303.000000  \n",
       "mean     2.313531    0.544554  \n",
       "std      0.612277    0.498835  \n",
       "min      0.000000    0.000000  \n",
       "25%      2.000000    0.000000  \n",
       "50%      2.000000    1.000000  \n",
       "75%      3.000000    1.000000  \n",
       "max      3.000000    1.000000  "
      ]
     },
     "execution_count": 27,
     "metadata": {},
     "output_type": "execute_result"
    }
   ],
   "source": [
    "data.describe()"
   ]
  },
  {
   "cell_type": "markdown",
   "id": "0b211750-bc97-4568-b95e-63a9d6481d42",
   "metadata": {},
   "source": [
    "##### _Check for null values_"
   ]
  },
  {
   "cell_type": "code",
   "execution_count": 28,
   "id": "b30a1eef-d6b3-4d88-9a1c-dab880e3912f",
   "metadata": {
    "tags": []
   },
   "outputs": [
    {
     "data": {
      "text/plain": [
       "age         0\n",
       "sex         0\n",
       "cp          0\n",
       "trestbps    0\n",
       "chol        0\n",
       "fbs         0\n",
       "restecg     0\n",
       "thalach     0\n",
       "exang       0\n",
       "oldpeak     0\n",
       "slope       0\n",
       "ca          0\n",
       "thal        0\n",
       "target      0\n",
       "dtype: int64"
      ]
     },
     "execution_count": 28,
     "metadata": {},
     "output_type": "execute_result"
    }
   ],
   "source": [
    "data.isnull().sum()"
   ]
  },
  {
   "cell_type": "code",
   "execution_count": 29,
   "id": "8f58fe54-36b9-477c-9755-19d33d4eb674",
   "metadata": {
    "tags": []
   },
   "outputs": [
    {
     "data": {
      "text/plain": [
       "(array([ 0.5,  1.5,  2.5,  3.5,  4.5,  5.5,  6.5,  7.5,  8.5,  9.5, 10.5,\n",
       "        11.5, 12.5, 13.5]),\n",
       " [Text(0, 0.5, 'age'),\n",
       "  Text(0, 1.5, 'sex'),\n",
       "  Text(0, 2.5, 'cp'),\n",
       "  Text(0, 3.5, 'trestbps'),\n",
       "  Text(0, 4.5, 'chol'),\n",
       "  Text(0, 5.5, 'fbs'),\n",
       "  Text(0, 6.5, 'restecg'),\n",
       "  Text(0, 7.5, 'thalach'),\n",
       "  Text(0, 8.5, 'exang'),\n",
       "  Text(0, 9.5, 'oldpeak'),\n",
       "  Text(0, 10.5, 'slope'),\n",
       "  Text(0, 11.5, 'ca'),\n",
       "  Text(0, 12.5, 'thal'),\n",
       "  Text(0, 13.5, 'target')])"
      ]
     },
     "execution_count": 29,
     "metadata": {},
     "output_type": "execute_result"
    },
    {
     "data": {
      "image/png": "[encoded data removed]",
      "text/plain": [
       "<Figure size 1000x1400 with 2 Axes>"
      ]
     },
     "metadata": {},
     "output_type": "display_data"
    }
   ],
   "source": [
    "fig,ax = plt.subplots(figsize=(10,14))\n",
    "ax = sns.heatmap(data.corr(),cmap='coolwarm',linecolor='white',linewidths=1,annot=True)\n",
    "plt.yticks(rotation=0) "
   ]
  },
  {
   "cell_type": "code",
   "execution_count": 30,
   "id": "e5969315-d2bb-47d8-bde5-a2485182c14c",
   "metadata": {
    "tags": []
   },
   "outputs": [
    {
     "data": {
      "text/plain": [
       "slope\n",
       "0      9\n",
       "1     49\n",
       "2    107\n",
       "Name: target, dtype: int64"
      ]
     },
     "execution_count": 30,
     "metadata": {},
     "output_type": "execute_result"
    }
   ],
   "source": [
    "data.groupby('slope')['target'].sum()"
   ]
  },
  {
   "cell_type": "code",
   "execution_count": 31,
   "id": "02db3b9e-1886-42bf-8a8f-3dd393536bb3",
   "metadata": {
    "tags": []
   },
   "outputs": [
    {
     "data": {
      "text/plain": [
       "<Axes: xlabel='slope', ylabel='target'>"
      ]
     },
     "execution_count": 31,
     "metadata": {},
     "output_type": "execute_result"
    },
    {
     "data": {
      "image/png": "[encoded data removed]",
      "text/plain": [
       "<Figure size 640x480 with 1 Axes>"
      ]
     },
     "metadata": {},
     "output_type": "display_data"
    }
   ],
   "source": [
    "sns.barplot(x='slope',y='target',data=data)"
   ]
  },
  {
   "cell_type": "code",
   "execution_count": 32,
   "id": "ec3d514d-c936-4567-9594-b00407f14376",
   "metadata": {
    "tags": []
   },
   "outputs": [
    {
     "data": {
      "text/plain": [
       "<Axes: xlabel='thalach', ylabel='Density'>"
      ]
     },
     "execution_count": 32,
     "metadata": {},
     "output_type": "execute_result"
    },
    {
     "data": {
      "image/png": "[encoded data removed]",
      "text/plain": [
       "<Figure size 640x480 with 1 Axes>"
      ]
     },
     "metadata": {},
     "output_type": "display_data"
    }
   ],
   "source": [
    "sns.distplot(data['thalach'],color='red')"
   ]
  },
  {
   "cell_type": "code",
   "execution_count": 33,
   "id": "bd2a350b-e0cc-4a42-8b42-830d36fe243c",
   "metadata": {
    "tags": []
   },
   "outputs": [
    {
     "data": {
      "text/plain": [
       "cp\n",
       "0    39\n",
       "1    41\n",
       "2    69\n",
       "3    16\n",
       "Name: target, dtype: int64"
      ]
     },
     "execution_count": 33,
     "metadata": {},
     "output_type": "execute_result"
    }
   ],
   "source": [
    "data.groupby('cp')['target'].sum()"
   ]
  },
  {
   "cell_type": "code",
   "execution_count": 34,
   "id": "f8ce1fdf-b34b-4b20-94ac-c001e292bd9d",
   "metadata": {
    "tags": []
   },
   "outputs": [
    {
     "data": {
      "text/plain": [
       "<Axes: xlabel='cp', ylabel='target'>"
      ]
     },
     "execution_count": 34,
     "metadata": {},
     "output_type": "execute_result"
    },
    {
     "data": {
      "image/png": "[encoded data removed]",
      "text/plain": [
       "<Figure size 640x480 with 1 Axes>"
      ]
     },
     "metadata": {},
     "output_type": "display_data"
    }
   ],
   "source": [
    "sns.barplot(x='cp',y='target',data=data)"
   ]
  },
  {
   "cell_type": "code",
   "execution_count": 35,
   "id": "47d68444-0301-4ecb-8569-50df44260146",
   "metadata": {
    "tags": []
   },
   "outputs": [
    {
     "data": {
      "text/plain": [
       "<Axes: xlabel='age', ylabel='Density'>"
      ]
     },
     "execution_count": 35,
     "metadata": {},
     "output_type": "execute_result"
    },
    {
     "data": {
      "image/png": "[encoded data removed]",
      "text/plain": [
       "<Figure size 640x480 with 1 Axes>"
      ]
     },
     "metadata": {},
     "output_type": "display_data"
    }
   ],
   "source": [
    "sns.distplot(data['age'])"
   ]
  },
  {
   "cell_type": "markdown",
   "id": "f67dcf68-41d8-48a8-bd39-352caba9d6fe",
   "metadata": {},
   "source": [
    "# Preproccesing data\n",
    "\n",
    "### OutLiers"
   ]
  },
  {
   "cell_type": "code",
   "execution_count": 36,
   "id": "2ff11b8e-f00d-4c97-8a21-6f1fc7b5bcff",
   "metadata": {
    "tags": []
   },
   "outputs": [],
   "source": [
    "def get_outliers(df,n,features):\n",
    "    outlier_indices = []\n",
    "    \n",
    "    # iterate over features(columns)\n",
    "    for col in features:\n",
    "        # 1st quartile (25%)\n",
    "        Q1 = np.percentile(df[col], 25)\n",
    "        # 3rd quartile (75%)\n",
    "        Q3 = np.percentile(df[col],75)\n",
    "        # Interquartile range (IQR)\n",
    "        IQR = Q3 - Q1\n",
    "\n",
    "        # outlier step\n",
    "        outlier_step = 1.5 * IQR\n",
    "\n",
    "        # Determine a list of indices of outliers for feature col\n",
    "        outlier_list_col = df[(df[col] < Q1 - outlier_step) | (df[col] > Q3 + outlier_step )].index\n",
    "\n",
    "        # append the found outlier indices for col to the list of outlier indices \n",
    "        outlier_indices.extend(outlier_list_col)\n",
    "\n",
    "    # select observations containing more than 2 outliers\n",
    "    outlier_indices = Counter(outlier_indices)        \n",
    "    multiple_outliers = list( k for k, v in outlier_indices.items() if v > n )\n",
    "\n",
    "    return multiple_outliers   \n",
    "# detect outliers from Age, SibSp , Parch and Fare\n",
    "Outliers_to_drop = get_outliers(data,2,[\"age\",\"chol\",\"restecg\",\"trestbps\",\"oldpeak\"])"
   ]
  },
  {
   "cell_type": "code",
   "execution_count": 37,
   "id": "d79367fb-d095-40a5-8019-5b0c824b6718",
   "metadata": {
    "tags": []
   },
   "outputs": [
    {
     "data": {
      "text/html": [
       "<div>\n",
       "<style scoped>\n",
       "    .dataframe tbody tr th:only-of-type {\n",
       "        vertical-align: middle;\n",
       "    }\n",
       "\n",
       "    .dataframe tbody tr th {\n",
       "        vertical-align: top;\n",
       "    }\n",
       "\n",
       "    .dataframe thead th {\n",
       "        text-align: right;\n",
       "    }\n",
       "</style>\n",
       "<table border=\"1\" class=\"dataframe\">\n",
       "  <thead>\n",
       "    <tr style=\"text-align: right;\">\n",
       "      <th></th>\n",
       "      <th>age</th>\n",
       "      <th>sex</th>\n",
       "      <th>cp</th>\n",
       "      <th>trestbps</th>\n",
       "      <th>chol</th>\n",
       "      <th>fbs</th>\n",
       "      <th>restecg</th>\n",
       "      <th>thalach</th>\n",
       "      <th>exang</th>\n",
       "      <th>oldpeak</th>\n",
       "      <th>slope</th>\n",
       "      <th>ca</th>\n",
       "      <th>thal</th>\n",
       "      <th>target</th>\n",
       "    </tr>\n",
       "  </thead>\n",
       "  <tbody>\n",
       "  </tbody>\n",
       "</table>\n",
       "</div>"
      ],
      "text/plain": [
       "Empty DataFrame\n",
       "Columns: [age, sex, cp, trestbps, chol, fbs, restecg, thalach, exang, oldpeak, slope, ca, thal, target]\n",
       "Index: []"
      ]
     },
     "execution_count": 37,
     "metadata": {},
     "output_type": "execute_result"
    }
   ],
   "source": [
    "data.loc[Outliers_to_drop]"
   ]
  },
  {
   "cell_type": "markdown",
   "id": "e4598f67-d184-4a1b-ad2d-606ec5546338",
   "metadata": {
    "tags": []
   },
   "source": [
    "##### _No Outliers found_"
   ]
  },
  {
   "cell_type": "code",
   "execution_count": 38,
   "id": "7f58c445-9106-4f6b-b946-f0861c8de606",
   "metadata": {
    "tags": []
   },
   "outputs": [
    {
     "data": {
      "text/plain": [
       "Index(['age', 'sex', 'cp', 'trestbps', 'chol', 'fbs', 'restecg', 'thalach',\n",
       "       'exang', 'oldpeak', 'slope', 'ca', 'thal', 'target'],\n",
       "      dtype='object')"
      ]
     },
     "execution_count": 38,
     "metadata": {},
     "output_type": "execute_result"
    }
   ],
   "source": [
    "data.columns"
   ]
  },
  {
   "cell_type": "markdown",
   "id": "3b51ff0b-4dbf-49c7-9caa-292845f6e8ef",
   "metadata": {},
   "source": [
    "#### -_Age_"
   ]
  },
  {
   "cell_type": "code",
   "execution_count": 39,
   "id": "c3fe4061-c26d-4bbe-8f73-5a86992bc102",
   "metadata": {
    "tags": []
   },
   "outputs": [
    {
     "data": {
      "text/plain": [
       "<seaborn.axisgrid.FacetGrid at 0x1ad08ea95d0>"
      ]
     },
     "execution_count": 39,
     "metadata": {},
     "output_type": "execute_result"
    },
    {
     "data": {
      "image/png": "[encoded data removed]",
      "text/plain": [
       "<Figure size 600x300 with 2 Axes>"
      ]
     },
     "metadata": {},
     "output_type": "display_data"
    }
   ],
   "source": [
    "#age\n",
    "g= sns.FacetGrid(data,col='target')\n",
    "g.map(plt.hist,'age',bins=20)"
   ]
  },
  {
   "cell_type": "code",
   "execution_count": 46,
   "id": "06fbfd59-bfb2-4d9c-8942-bf36fbc8bfb8",
   "metadata": {
    "tags": []
   },
   "outputs": [
    {
     "data": {
      "text/plain": [
       "<seaborn.axisgrid.FacetGrid at 0x1ad09797690>"
      ]
     },
     "execution_count": 46,
     "metadata": {},
     "output_type": "execute_result"
    },
    {
     "data": {
      "image/png": "[encoded data removed]",
      "text/plain": [
       "<Figure size 611.111x600 with 4 Axes>"
      ]
     },
     "metadata": {},
     "output_type": "display_data"
    }
   ],
   "source": [
    "grid = sns.FacetGrid(data, row='target', col='sex', )\n",
    "grid.map(plt.hist, 'age',  bins=20)\n",
    "grid.add_legend()"
   ]
  },
  {
   "cell_type": "markdown",
   "id": "f28916b5-172b-416a-97e9-9b712c429669",
   "metadata": {},
   "source": [
    "##### _women are checked for disease when they are older than the men_"
   ]
  },
  {
   "cell_type": "code",
   "execution_count": 47,
   "id": "f0ac0955-2541-461e-a217-761ab9068e5c",
   "metadata": {
    "tags": []
   },
   "outputs": [
    {
     "data": {
      "text/html": [
       "<div>\n",
       "<style scoped>\n",
       "    .dataframe tbody tr th:only-of-type {\n",
       "        vertical-align: middle;\n",
       "    }\n",
       "\n",
       "    .dataframe tbody tr th {\n",
       "        vertical-align: top;\n",
       "    }\n",
       "\n",
       "    .dataframe thead th {\n",
       "        text-align: right;\n",
       "    }\n",
       "</style>\n",
       "<table border=\"1\" class=\"dataframe\">\n",
       "  <thead>\n",
       "    <tr style=\"text-align: right;\">\n",
       "      <th></th>\n",
       "      <th>AgeBand</th>\n",
       "      <th>target</th>\n",
       "    </tr>\n",
       "  </thead>\n",
       "  <tbody>\n",
       "    <tr>\n",
       "      <th>0</th>\n",
       "      <td>(28.952, 38.6]</td>\n",
       "      <td>0.750000</td>\n",
       "    </tr>\n",
       "    <tr>\n",
       "      <th>1</th>\n",
       "      <td>(38.6, 48.2]</td>\n",
       "      <td>0.704225</td>\n",
       "    </tr>\n",
       "    <tr>\n",
       "      <th>2</th>\n",
       "      <td>(48.2, 57.8]</td>\n",
       "      <td>0.577320</td>\n",
       "    </tr>\n",
       "    <tr>\n",
       "      <th>3</th>\n",
       "      <td>(57.8, 67.4]</td>\n",
       "      <td>0.377358</td>\n",
       "    </tr>\n",
       "    <tr>\n",
       "      <th>4</th>\n",
       "      <td>(67.4, 77.0]</td>\n",
       "      <td>0.588235</td>\n",
       "    </tr>\n",
       "  </tbody>\n",
       "</table>\n",
       "</div>"
      ],
      "text/plain": [
       "          AgeBand    target\n",
       "0  (28.952, 38.6]  0.750000\n",
       "1    (38.6, 48.2]  0.704225\n",
       "2    (48.2, 57.8]  0.577320\n",
       "3    (57.8, 67.4]  0.377358\n",
       "4    (67.4, 77.0]  0.588235"
      ]
     },
     "execution_count": 47,
     "metadata": {},
     "output_type": "execute_result"
    }
   ],
   "source": [
    "data['AgeBand'] = pd.cut(data['age'], 5)\n",
    "data[['AgeBand', 'target']].groupby(['AgeBand'], as_index=False).mean().sort_values(by='AgeBand', ascending=True)"
   ]
  },
  {
   "cell_type": "code",
   "execution_count": 48,
   "id": "b36d9195-3d7b-457a-a210-847e06776aca",
   "metadata": {
    "tags": []
   },
   "outputs": [
    {
     "data": {
      "text/html": [
       "<div>\n",
       "<style scoped>\n",
       "    .dataframe tbody tr th:only-of-type {\n",
       "        vertical-align: middle;\n",
       "    }\n",
       "\n",
       "    .dataframe tbody tr th {\n",
       "        vertical-align: top;\n",
       "    }\n",
       "\n",
       "    .dataframe thead th {\n",
       "        text-align: right;\n",
       "    }\n",
       "</style>\n",
       "<table border=\"1\" class=\"dataframe\">\n",
       "  <thead>\n",
       "    <tr style=\"text-align: right;\">\n",
       "      <th></th>\n",
       "      <th>age</th>\n",
       "      <th>sex</th>\n",
       "      <th>cp</th>\n",
       "      <th>trestbps</th>\n",
       "      <th>chol</th>\n",
       "      <th>fbs</th>\n",
       "      <th>restecg</th>\n",
       "      <th>thalach</th>\n",
       "      <th>exang</th>\n",
       "      <th>oldpeak</th>\n",
       "      <th>slope</th>\n",
       "      <th>ca</th>\n",
       "      <th>thal</th>\n",
       "      <th>target</th>\n",
       "      <th>AgeBand</th>\n",
       "      <th>age_group</th>\n",
       "    </tr>\n",
       "  </thead>\n",
       "  <tbody>\n",
       "    <tr>\n",
       "      <th>0</th>\n",
       "      <td>63</td>\n",
       "      <td>1</td>\n",
       "      <td>3</td>\n",
       "      <td>145</td>\n",
       "      <td>233</td>\n",
       "      <td>1</td>\n",
       "      <td>0</td>\n",
       "      <td>150</td>\n",
       "      <td>0</td>\n",
       "      <td>2.3</td>\n",
       "      <td>0</td>\n",
       "      <td>0</td>\n",
       "      <td>1</td>\n",
       "      <td>1</td>\n",
       "      <td>(57.8, 67.4]</td>\n",
       "      <td>4.0</td>\n",
       "    </tr>\n",
       "    <tr>\n",
       "      <th>1</th>\n",
       "      <td>37</td>\n",
       "      <td>1</td>\n",
       "      <td>2</td>\n",
       "      <td>130</td>\n",
       "      <td>250</td>\n",
       "      <td>0</td>\n",
       "      <td>1</td>\n",
       "      <td>187</td>\n",
       "      <td>0</td>\n",
       "      <td>3.5</td>\n",
       "      <td>0</td>\n",
       "      <td>0</td>\n",
       "      <td>2</td>\n",
       "      <td>1</td>\n",
       "      <td>(28.952, 38.6]</td>\n",
       "      <td>1.0</td>\n",
       "    </tr>\n",
       "    <tr>\n",
       "      <th>2</th>\n",
       "      <td>41</td>\n",
       "      <td>0</td>\n",
       "      <td>1</td>\n",
       "      <td>130</td>\n",
       "      <td>204</td>\n",
       "      <td>0</td>\n",
       "      <td>0</td>\n",
       "      <td>172</td>\n",
       "      <td>0</td>\n",
       "      <td>1.4</td>\n",
       "      <td>2</td>\n",
       "      <td>0</td>\n",
       "      <td>2</td>\n",
       "      <td>1</td>\n",
       "      <td>(38.6, 48.2]</td>\n",
       "      <td>2.0</td>\n",
       "    </tr>\n",
       "    <tr>\n",
       "      <th>3</th>\n",
       "      <td>56</td>\n",
       "      <td>1</td>\n",
       "      <td>1</td>\n",
       "      <td>120</td>\n",
       "      <td>236</td>\n",
       "      <td>0</td>\n",
       "      <td>1</td>\n",
       "      <td>178</td>\n",
       "      <td>0</td>\n",
       "      <td>0.8</td>\n",
       "      <td>2</td>\n",
       "      <td>0</td>\n",
       "      <td>2</td>\n",
       "      <td>1</td>\n",
       "      <td>(48.2, 57.8]</td>\n",
       "      <td>3.0</td>\n",
       "    </tr>\n",
       "    <tr>\n",
       "      <th>4</th>\n",
       "      <td>57</td>\n",
       "      <td>0</td>\n",
       "      <td>0</td>\n",
       "      <td>120</td>\n",
       "      <td>354</td>\n",
       "      <td>0</td>\n",
       "      <td>1</td>\n",
       "      <td>163</td>\n",
       "      <td>1</td>\n",
       "      <td>0.6</td>\n",
       "      <td>2</td>\n",
       "      <td>0</td>\n",
       "      <td>2</td>\n",
       "      <td>1</td>\n",
       "      <td>(48.2, 57.8]</td>\n",
       "      <td>3.0</td>\n",
       "    </tr>\n",
       "  </tbody>\n",
       "</table>\n",
       "</div>"
      ],
      "text/plain": [
       "   age  sex  cp  trestbps  chol  fbs  restecg  thalach  exang  oldpeak  slope  \\\n",
       "0   63    1   3       145   233    1        0      150      0      2.3      0   \n",
       "1   37    1   2       130   250    0        1      187      0      3.5      0   \n",
       "2   41    0   1       130   204    0        0      172      0      1.4      2   \n",
       "3   56    1   1       120   236    0        1      178      0      0.8      2   \n",
       "4   57    0   0       120   354    0        1      163      1      0.6      2   \n",
       "\n",
       "   ca  thal  target         AgeBand  age_group  \n",
       "0   0     1       1    (57.8, 67.4]        4.0  \n",
       "1   0     2       1  (28.952, 38.6]        1.0  \n",
       "2   0     2       1    (38.6, 48.2]        2.0  \n",
       "3   0     2       1    (48.2, 57.8]        3.0  \n",
       "4   0     2       1    (48.2, 57.8]        3.0  "
      ]
     },
     "execution_count": 48,
     "metadata": {},
     "output_type": "execute_result"
    }
   ],
   "source": [
    "data.loc[ data['age'] < 38.6, 'age_group'] = 1\n",
    "data.loc[(data['age'] >= 38.6) & (data['age'] < 48.2), 'age_group'] = 2\n",
    "data.loc[(data['age'] >= 48.2) & (data['age'] < 57.8), 'age_group'] = 3\n",
    "data.loc[(data['age'] >= 57.8) & (data['age'] < 67.4), 'age_group'] = 4\n",
    "data.loc[ data['age'] >= 67.4, 'age_group'] = 5\n",
    "data['age_group'].astype('int')\n",
    "data.head()"
   ]
  },
  {
   "cell_type": "code",
   "execution_count": 49,
   "id": "dba145c8-61fb-4166-8ca6-f009fe209a6d",
   "metadata": {
    "tags": []
   },
   "outputs": [],
   "source": [
    "#drop age and AgeBand\n",
    "data.drop(['age','AgeBand'] , axis= 1,inplace=True)"
   ]
  },
  {
   "cell_type": "code",
   "execution_count": 51,
   "id": "66cf7a53-e41e-46fb-abda-ab2ec3863029",
   "metadata": {
    "tags": []
   },
   "outputs": [
    {
     "data": {
      "text/plain": [
       "<seaborn.axisgrid.FacetGrid at 0x1ad09d06090>"
      ]
     },
     "execution_count": 51,
     "metadata": {},
     "output_type": "execute_result"
    },
    {
     "data": {
      "image/png": "[encoded data removed]",
      "text/plain": [
       "<Figure size 611.111x600 with 4 Axes>"
      ]
     },
     "metadata": {},
     "output_type": "display_data"
    }
   ],
   "source": [
    "grid = sns.FacetGrid(data, row='target', col='sex')\n",
    "grid.map(plt.hist, 'age_group',  bins=20)\n",
    "grid.add_legend()"
   ]
  },
  {
   "cell_type": "code",
   "execution_count": 52,
   "id": "4acab695-b9fc-439a-8b6d-b6fadf12ead6",
   "metadata": {
    "tags": []
   },
   "outputs": [
    {
     "data": {
      "text/html": [
       "<div>\n",
       "<style scoped>\n",
       "    .dataframe tbody tr th:only-of-type {\n",
       "        vertical-align: middle;\n",
       "    }\n",
       "\n",
       "    .dataframe tbody tr th {\n",
       "        vertical-align: top;\n",
       "    }\n",
       "\n",
       "    .dataframe thead th {\n",
       "        text-align: right;\n",
       "    }\n",
       "</style>\n",
       "<table border=\"1\" class=\"dataframe\">\n",
       "  <thead>\n",
       "    <tr style=\"text-align: right;\">\n",
       "      <th></th>\n",
       "      <th>sex</th>\n",
       "      <th>cp</th>\n",
       "      <th>trestbps</th>\n",
       "      <th>chol</th>\n",
       "      <th>fbs</th>\n",
       "      <th>restecg</th>\n",
       "      <th>thalach</th>\n",
       "      <th>exang</th>\n",
       "      <th>oldpeak</th>\n",
       "      <th>slope</th>\n",
       "      <th>ca</th>\n",
       "      <th>thal</th>\n",
       "      <th>target</th>\n",
       "      <th>AgeGrp_1.0</th>\n",
       "      <th>AgeGrp_2.0</th>\n",
       "      <th>AgeGrp_3.0</th>\n",
       "      <th>AgeGrp_4.0</th>\n",
       "      <th>AgeGrp_5.0</th>\n",
       "    </tr>\n",
       "  </thead>\n",
       "  <tbody>\n",
       "    <tr>\n",
       "      <th>0</th>\n",
       "      <td>1</td>\n",
       "      <td>3</td>\n",
       "      <td>145</td>\n",
       "      <td>233</td>\n",
       "      <td>1</td>\n",
       "      <td>0</td>\n",
       "      <td>150</td>\n",
       "      <td>0</td>\n",
       "      <td>2.3</td>\n",
       "      <td>0</td>\n",
       "      <td>0</td>\n",
       "      <td>1</td>\n",
       "      <td>1</td>\n",
       "      <td>False</td>\n",
       "      <td>False</td>\n",
       "      <td>False</td>\n",
       "      <td>True</td>\n",
       "      <td>False</td>\n",
       "    </tr>\n",
       "    <tr>\n",
       "      <th>1</th>\n",
       "      <td>1</td>\n",
       "      <td>2</td>\n",
       "      <td>130</td>\n",
       "      <td>250</td>\n",
       "      <td>0</td>\n",
       "      <td>1</td>\n",
       "      <td>187</td>\n",
       "      <td>0</td>\n",
       "      <td>3.5</td>\n",
       "      <td>0</td>\n",
       "      <td>0</td>\n",
       "      <td>2</td>\n",
       "      <td>1</td>\n",
       "      <td>True</td>\n",
       "      <td>False</td>\n",
       "      <td>False</td>\n",
       "      <td>False</td>\n",
       "      <td>False</td>\n",
       "    </tr>\n",
       "    <tr>\n",
       "      <th>2</th>\n",
       "      <td>0</td>\n",
       "      <td>1</td>\n",
       "      <td>130</td>\n",
       "      <td>204</td>\n",
       "      <td>0</td>\n",
       "      <td>0</td>\n",
       "      <td>172</td>\n",
       "      <td>0</td>\n",
       "      <td>1.4</td>\n",
       "      <td>2</td>\n",
       "      <td>0</td>\n",
       "      <td>2</td>\n",
       "      <td>1</td>\n",
       "      <td>False</td>\n",
       "      <td>True</td>\n",
       "      <td>False</td>\n",
       "      <td>False</td>\n",
       "      <td>False</td>\n",
       "    </tr>\n",
       "    <tr>\n",
       "      <th>3</th>\n",
       "      <td>1</td>\n",
       "      <td>1</td>\n",
       "      <td>120</td>\n",
       "      <td>236</td>\n",
       "      <td>0</td>\n",
       "      <td>1</td>\n",
       "      <td>178</td>\n",
       "      <td>0</td>\n",
       "      <td>0.8</td>\n",
       "      <td>2</td>\n",
       "      <td>0</td>\n",
       "      <td>2</td>\n",
       "      <td>1</td>\n",
       "      <td>False</td>\n",
       "      <td>False</td>\n",
       "      <td>True</td>\n",
       "      <td>False</td>\n",
       "      <td>False</td>\n",
       "    </tr>\n",
       "    <tr>\n",
       "      <th>4</th>\n",
       "      <td>0</td>\n",
       "      <td>0</td>\n",
       "      <td>120</td>\n",
       "      <td>354</td>\n",
       "      <td>0</td>\n",
       "      <td>1</td>\n",
       "      <td>163</td>\n",
       "      <td>1</td>\n",
       "      <td>0.6</td>\n",
       "      <td>2</td>\n",
       "      <td>0</td>\n",
       "      <td>2</td>\n",
       "      <td>1</td>\n",
       "      <td>False</td>\n",
       "      <td>False</td>\n",
       "      <td>True</td>\n",
       "      <td>False</td>\n",
       "      <td>False</td>\n",
       "    </tr>\n",
       "  </tbody>\n",
       "</table>\n",
       "</div>"
      ],
      "text/plain": [
       "   sex  cp  trestbps  chol  fbs  restecg  thalach  exang  oldpeak  slope  ca  \\\n",
       "0    1   3       145   233    1        0      150      0      2.3      0   0   \n",
       "1    1   2       130   250    0        1      187      0      3.5      0   0   \n",
       "2    0   1       130   204    0        0      172      0      1.4      2   0   \n",
       "3    1   1       120   236    0        1      178      0      0.8      2   0   \n",
       "4    0   0       120   354    0        1      163      1      0.6      2   0   \n",
       "\n",
       "   thal  target  AgeGrp_1.0  AgeGrp_2.0  AgeGrp_3.0  AgeGrp_4.0  AgeGrp_5.0  \n",
       "0     1       1       False       False       False        True       False  \n",
       "1     2       1        True       False       False       False       False  \n",
       "2     2       1       False        True       False       False       False  \n",
       "3     2       1       False       False        True       False       False  \n",
       "4     2       1       False       False        True       False       False  "
      ]
     },
     "execution_count": 52,
     "metadata": {},
     "output_type": "execute_result"
    }
   ],
   "source": [
    "#change age_group to be dummy column\n",
    "data = pd.get_dummies(data, columns = ['age_group'], prefix=\"AgeGrp\")\n",
    "data.head()"
   ]
  },
  {
   "cell_type": "markdown",
   "id": "e9236992-847c-4eb1-bd92-33b51b9a8151",
   "metadata": {},
   "source": [
    "#### -_sex_"
   ]
  },
  {
   "cell_type": "code",
   "execution_count": 53,
   "id": "2e91dfdc-2e54-4a50-8c18-bd16a33bb603",
   "metadata": {
    "tags": []
   },
   "outputs": [
    {
     "data": {
      "text/plain": [
       "sex\n",
       "0     96\n",
       "1    207\n",
       "Name: target, dtype: int64"
      ]
     },
     "execution_count": 53,
     "metadata": {},
     "output_type": "execute_result"
    }
   ],
   "source": [
    "data.groupby('sex')['target'].count()"
   ]
  },
  {
   "cell_type": "code",
   "execution_count": 54,
   "id": "b85dd4f4-3ec9-4e65-9554-8455c5628580",
   "metadata": {
    "tags": []
   },
   "outputs": [
    {
     "data": {
      "text/plain": [
       "<Axes: xlabel='sex', ylabel='count'>"
      ]
     },
     "execution_count": 54,
     "metadata": {},
     "output_type": "execute_result"
    },
    {
     "data": {
      "image/png": "[encoded data removed]",
      "text/plain": [
       "<Figure size 640x480 with 1 Axes>"
      ]
     },
     "metadata": {},
     "output_type": "display_data"
    }
   ],
   "source": [
    "#sns.barplot(x='sex',y='target',data=data)\n",
    "sns.countplot(data=data,x='sex')"
   ]
  },
  {
   "cell_type": "markdown",
   "id": "a0361ff6-776c-4ac1-99c6-faa7848d30db",
   "metadata": {
    "tags": []
   },
   "source": [
    "##### _There are twice as much men than women in the data_"
   ]
  },
  {
   "cell_type": "code",
   "execution_count": 55,
   "id": "6c0124cf-a402-44b1-a6ee-012f686d279c",
   "metadata": {
    "tags": []
   },
   "outputs": [],
   "source": [
    "data = pd.get_dummies(data,columns = ['sex'], prefix=\"Sex\")"
   ]
  },
  {
   "cell_type": "markdown",
   "id": "c3279000-43bf-4338-a36b-a6657e7a1b3d",
   "metadata": {
    "tags": []
   },
   "source": [
    "#### -_cp_"
   ]
  },
  {
   "cell_type": "code",
   "execution_count": 56,
   "id": "934621cb-81d8-4fba-9ece-cae962b5bd1b",
   "metadata": {
    "tags": []
   },
   "outputs": [
    {
     "data": {
      "text/html": [
       "<div>\n",
       "<style scoped>\n",
       "    .dataframe tbody tr th:only-of-type {\n",
       "        vertical-align: middle;\n",
       "    }\n",
       "\n",
       "    .dataframe tbody tr th {\n",
       "        vertical-align: top;\n",
       "    }\n",
       "\n",
       "    .dataframe thead th {\n",
       "        text-align: right;\n",
       "    }\n",
       "</style>\n",
       "<table border=\"1\" class=\"dataframe\">\n",
       "  <thead>\n",
       "    <tr style=\"text-align: right;\">\n",
       "      <th></th>\n",
       "      <th>trestbps</th>\n",
       "      <th>chol</th>\n",
       "      <th>fbs</th>\n",
       "      <th>restecg</th>\n",
       "      <th>thalach</th>\n",
       "      <th>exang</th>\n",
       "      <th>oldpeak</th>\n",
       "      <th>slope</th>\n",
       "      <th>ca</th>\n",
       "      <th>thal</th>\n",
       "      <th>...</th>\n",
       "      <th>AgeGrp_2.0</th>\n",
       "      <th>AgeGrp_3.0</th>\n",
       "      <th>AgeGrp_4.0</th>\n",
       "      <th>AgeGrp_5.0</th>\n",
       "      <th>Sex_0</th>\n",
       "      <th>Sex_1</th>\n",
       "      <th>CP_0</th>\n",
       "      <th>CP_1</th>\n",
       "      <th>CP_2</th>\n",
       "      <th>CP_3</th>\n",
       "    </tr>\n",
       "  </thead>\n",
       "  <tbody>\n",
       "    <tr>\n",
       "      <th>0</th>\n",
       "      <td>145</td>\n",
       "      <td>233</td>\n",
       "      <td>1</td>\n",
       "      <td>0</td>\n",
       "      <td>150</td>\n",
       "      <td>0</td>\n",
       "      <td>2.3</td>\n",
       "      <td>0</td>\n",
       "      <td>0</td>\n",
       "      <td>1</td>\n",
       "      <td>...</td>\n",
       "      <td>False</td>\n",
       "      <td>False</td>\n",
       "      <td>True</td>\n",
       "      <td>False</td>\n",
       "      <td>False</td>\n",
       "      <td>True</td>\n",
       "      <td>False</td>\n",
       "      <td>False</td>\n",
       "      <td>False</td>\n",
       "      <td>True</td>\n",
       "    </tr>\n",
       "    <tr>\n",
       "      <th>1</th>\n",
       "      <td>130</td>\n",
       "      <td>250</td>\n",
       "      <td>0</td>\n",
       "      <td>1</td>\n",
       "      <td>187</td>\n",
       "      <td>0</td>\n",
       "      <td>3.5</td>\n",
       "      <td>0</td>\n",
       "      <td>0</td>\n",
       "      <td>2</td>\n",
       "      <td>...</td>\n",
       "      <td>False</td>\n",
       "      <td>False</td>\n",
       "      <td>False</td>\n",
       "      <td>False</td>\n",
       "      <td>False</td>\n",
       "      <td>True</td>\n",
       "      <td>False</td>\n",
       "      <td>False</td>\n",
       "      <td>True</td>\n",
       "      <td>False</td>\n",
       "    </tr>\n",
       "    <tr>\n",
       "      <th>2</th>\n",
       "      <td>130</td>\n",
       "      <td>204</td>\n",
       "      <td>0</td>\n",
       "      <td>0</td>\n",
       "      <td>172</td>\n",
       "      <td>0</td>\n",
       "      <td>1.4</td>\n",
       "      <td>2</td>\n",
       "      <td>0</td>\n",
       "      <td>2</td>\n",
       "      <td>...</td>\n",
       "      <td>True</td>\n",
       "      <td>False</td>\n",
       "      <td>False</td>\n",
       "      <td>False</td>\n",
       "      <td>True</td>\n",
       "      <td>False</td>\n",
       "      <td>False</td>\n",
       "      <td>True</td>\n",
       "      <td>False</td>\n",
       "      <td>False</td>\n",
       "    </tr>\n",
       "    <tr>\n",
       "      <th>3</th>\n",
       "      <td>120</td>\n",
       "      <td>236</td>\n",
       "      <td>0</td>\n",
       "      <td>1</td>\n",
       "      <td>178</td>\n",
       "      <td>0</td>\n",
       "      <td>0.8</td>\n",
       "      <td>2</td>\n",
       "      <td>0</td>\n",
       "      <td>2</td>\n",
       "      <td>...</td>\n",
       "      <td>False</td>\n",
       "      <td>True</td>\n",
       "      <td>False</td>\n",
       "      <td>False</td>\n",
       "      <td>False</td>\n",
       "      <td>True</td>\n",
       "      <td>False</td>\n",
       "      <td>True</td>\n",
       "      <td>False</td>\n",
       "      <td>False</td>\n",
       "    </tr>\n",
       "    <tr>\n",
       "      <th>4</th>\n",
       "      <td>120</td>\n",
       "      <td>354</td>\n",
       "      <td>0</td>\n",
       "      <td>1</td>\n",
       "      <td>163</td>\n",
       "      <td>1</td>\n",
       "      <td>0.6</td>\n",
       "      <td>2</td>\n",
       "      <td>0</td>\n",
       "      <td>2</td>\n",
       "      <td>...</td>\n",
       "      <td>False</td>\n",
       "      <td>True</td>\n",
       "      <td>False</td>\n",
       "      <td>False</td>\n",
       "      <td>True</td>\n",
       "      <td>False</td>\n",
       "      <td>True</td>\n",
       "      <td>False</td>\n",
       "      <td>False</td>\n",
       "      <td>False</td>\n",
       "    </tr>\n",
       "  </tbody>\n",
       "</table>\n",
       "<p>5 rows × 22 columns</p>\n",
       "</div>"
      ],
      "text/plain": [
       "   trestbps  chol  fbs  restecg  thalach  exang  oldpeak  slope  ca  thal  \\\n",
       "0       145   233    1        0      150      0      2.3      0   0     1   \n",
       "1       130   250    0        1      187      0      3.5      0   0     2   \n",
       "2       130   204    0        0      172      0      1.4      2   0     2   \n",
       "3       120   236    0        1      178      0      0.8      2   0     2   \n",
       "4       120   354    0        1      163      1      0.6      2   0     2   \n",
       "\n",
       "   ...  AgeGrp_2.0  AgeGrp_3.0  AgeGrp_4.0  AgeGrp_5.0  Sex_0  Sex_1   CP_0  \\\n",
       "0  ...       False       False        True       False  False   True  False   \n",
       "1  ...       False       False       False       False  False   True  False   \n",
       "2  ...        True       False       False       False   True  False  False   \n",
       "3  ...       False        True       False       False  False   True  False   \n",
       "4  ...       False        True       False       False   True  False   True   \n",
       "\n",
       "    CP_1   CP_2   CP_3  \n",
       "0  False  False   True  \n",
       "1  False   True  False  \n",
       "2   True  False  False  \n",
       "3   True  False  False  \n",
       "4  False  False  False  \n",
       "\n",
       "[5 rows x 22 columns]"
      ]
     },
     "execution_count": 56,
     "metadata": {},
     "output_type": "execute_result"
    }
   ],
   "source": [
    "data = pd.get_dummies(data,columns = ['cp'], prefix=\"CP\")\n",
    "data.head()"
   ]
  },
  {
   "cell_type": "markdown",
   "id": "3adfb88c-c979-4836-bfe7-1071984a38b5",
   "metadata": {
    "tags": []
   },
   "source": [
    "##### -_trestbps_"
   ]
  },
  {
   "cell_type": "code",
   "execution_count": 57,
   "id": "1bfcf4b4-5224-4b2b-91c7-8570b0288d94",
   "metadata": {
    "tags": []
   },
   "outputs": [
    {
     "data": {
      "text/plain": [
       "<Axes: xlabel='trestbps', ylabel='Density'>"
      ]
     },
     "execution_count": 57,
     "metadata": {},
     "output_type": "execute_result"
    },
    {
     "data": {
      "image/png": "[encoded data removed]",
      "text/plain": [
       "<Figure size 640x480 with 1 Axes>"
      ]
     },
     "metadata": {},
     "output_type": "display_data"
    }
   ],
   "source": [
    "sns.distplot(data['trestbps'])"
   ]
  },
  {
   "cell_type": "markdown",
   "id": "71d794af-a103-427b-b50c-8a7084add2bf",
   "metadata": {},
   "source": [
    "##### -_chol_"
   ]
  },
  {
   "cell_type": "code",
   "execution_count": 58,
   "id": "b6da9185-d279-4921-8331-d7515e2e7e4d",
   "metadata": {
    "tags": []
   },
   "outputs": [
    {
     "data": {
      "text/plain": [
       "<Axes: xlabel='chol', ylabel='Density'>"
      ]
     },
     "execution_count": 58,
     "metadata": {},
     "output_type": "execute_result"
    },
    {
     "data": {
      "image/png": "[encoded data removed]",
      "text/plain": [
       "<Figure size 640x480 with 1 Axes>"
      ]
     },
     "metadata": {},
     "output_type": "display_data"
    }
   ],
   "source": [
    "sns.distplot(data['chol'])"
   ]
  },
  {
   "cell_type": "code",
   "execution_count": 59,
   "id": "28bca4ab-e2f2-4549-a0da-768d3814531e",
   "metadata": {
    "tags": []
   },
   "outputs": [
    {
     "data": {
      "text/plain": [
       "1.1434008206693387"
      ]
     },
     "execution_count": 59,
     "metadata": {},
     "output_type": "execute_result"
    }
   ],
   "source": [
    "data['chol'].skew()"
   ]
  },
  {
   "cell_type": "markdown",
   "id": "590ce232-da0b-4d93-8ed4-21b781f3090d",
   "metadata": {
    "tags": []
   },
   "source": [
    "##### -_fbs_"
   ]
  },
  {
   "cell_type": "code",
   "execution_count": 60,
   "id": "cdce3fae-ee10-45fd-ac46-638c79ee5e9d",
   "metadata": {
    "tags": []
   },
   "outputs": [
    {
     "data": {
      "text/plain": [
       "fbs\n",
       "0    85.148515\n",
       "1    14.851485\n",
       "Name: count, dtype: float64"
      ]
     },
     "execution_count": 60,
     "metadata": {},
     "output_type": "execute_result"
    }
   ],
   "source": [
    "data['fbs'].value_counts() /data.shape[0] * 100"
   ]
  },
  {
   "cell_type": "code",
   "execution_count": 119,
   "id": "784ac0db-3259-41ee-ba40-8d3e833e09e7",
   "metadata": {
    "tags": []
   },
   "outputs": [
    {
     "data": {
      "text/plain": [
       "<Axes: ylabel='count'>"
      ]
     },
     "execution_count": 119,
     "metadata": {},
     "output_type": "execute_result"
    },
    {
     "data": {
      "image/png": "[encoded data removed]",
      "text/plain": [
       "<Figure size 640x480 with 1 Axes>"
      ]
     },
     "metadata": {},
     "output_type": "display_data"
    }
   ],
   "source": [
    "sns.countplot(data['fbs'])"
   ]
  },
  {
   "cell_type": "markdown",
   "id": "55ad2793-0016-47dd-bbdb-89b46008ff54",
   "metadata": {},
   "source": [
    "##### _Not many people died from complications of high suger level_"
   ]
  },
  {
   "cell_type": "code",
   "execution_count": 62,
   "id": "cd93b014-7242-470c-95cb-d45ba3ebaac0",
   "metadata": {
    "tags": []
   },
   "outputs": [
    {
     "data": {
      "text/html": [
       "<div>\n",
       "<style scoped>\n",
       "    .dataframe tbody tr th:only-of-type {\n",
       "        vertical-align: middle;\n",
       "    }\n",
       "\n",
       "    .dataframe tbody tr th {\n",
       "        vertical-align: top;\n",
       "    }\n",
       "\n",
       "    .dataframe thead th {\n",
       "        text-align: right;\n",
       "    }\n",
       "</style>\n",
       "<table border=\"1\" class=\"dataframe\">\n",
       "  <thead>\n",
       "    <tr style=\"text-align: right;\">\n",
       "      <th></th>\n",
       "      <th>trestbps</th>\n",
       "      <th>chol</th>\n",
       "      <th>restecg</th>\n",
       "      <th>thalach</th>\n",
       "      <th>exang</th>\n",
       "      <th>oldpeak</th>\n",
       "      <th>slope</th>\n",
       "      <th>ca</th>\n",
       "      <th>thal</th>\n",
       "      <th>target</th>\n",
       "      <th>...</th>\n",
       "      <th>AgeGrp_4.0</th>\n",
       "      <th>AgeGrp_5.0</th>\n",
       "      <th>Sex_0</th>\n",
       "      <th>Sex_1</th>\n",
       "      <th>CP_0</th>\n",
       "      <th>CP_1</th>\n",
       "      <th>CP_2</th>\n",
       "      <th>CP_3</th>\n",
       "      <th>fbs_0</th>\n",
       "      <th>fbs_1</th>\n",
       "    </tr>\n",
       "  </thead>\n",
       "  <tbody>\n",
       "    <tr>\n",
       "      <th>0</th>\n",
       "      <td>145</td>\n",
       "      <td>233</td>\n",
       "      <td>0</td>\n",
       "      <td>150</td>\n",
       "      <td>0</td>\n",
       "      <td>2.3</td>\n",
       "      <td>0</td>\n",
       "      <td>0</td>\n",
       "      <td>1</td>\n",
       "      <td>1</td>\n",
       "      <td>...</td>\n",
       "      <td>True</td>\n",
       "      <td>False</td>\n",
       "      <td>False</td>\n",
       "      <td>True</td>\n",
       "      <td>False</td>\n",
       "      <td>False</td>\n",
       "      <td>False</td>\n",
       "      <td>True</td>\n",
       "      <td>False</td>\n",
       "      <td>True</td>\n",
       "    </tr>\n",
       "    <tr>\n",
       "      <th>1</th>\n",
       "      <td>130</td>\n",
       "      <td>250</td>\n",
       "      <td>1</td>\n",
       "      <td>187</td>\n",
       "      <td>0</td>\n",
       "      <td>3.5</td>\n",
       "      <td>0</td>\n",
       "      <td>0</td>\n",
       "      <td>2</td>\n",
       "      <td>1</td>\n",
       "      <td>...</td>\n",
       "      <td>False</td>\n",
       "      <td>False</td>\n",
       "      <td>False</td>\n",
       "      <td>True</td>\n",
       "      <td>False</td>\n",
       "      <td>False</td>\n",
       "      <td>True</td>\n",
       "      <td>False</td>\n",
       "      <td>True</td>\n",
       "      <td>False</td>\n",
       "    </tr>\n",
       "    <tr>\n",
       "      <th>2</th>\n",
       "      <td>130</td>\n",
       "      <td>204</td>\n",
       "      <td>0</td>\n",
       "      <td>172</td>\n",
       "      <td>0</td>\n",
       "      <td>1.4</td>\n",
       "      <td>2</td>\n",
       "      <td>0</td>\n",
       "      <td>2</td>\n",
       "      <td>1</td>\n",
       "      <td>...</td>\n",
       "      <td>False</td>\n",
       "      <td>False</td>\n",
       "      <td>True</td>\n",
       "      <td>False</td>\n",
       "      <td>False</td>\n",
       "      <td>True</td>\n",
       "      <td>False</td>\n",
       "      <td>False</td>\n",
       "      <td>True</td>\n",
       "      <td>False</td>\n",
       "    </tr>\n",
       "    <tr>\n",
       "      <th>3</th>\n",
       "      <td>120</td>\n",
       "      <td>236</td>\n",
       "      <td>1</td>\n",
       "      <td>178</td>\n",
       "      <td>0</td>\n",
       "      <td>0.8</td>\n",
       "      <td>2</td>\n",
       "      <td>0</td>\n",
       "      <td>2</td>\n",
       "      <td>1</td>\n",
       "      <td>...</td>\n",
       "      <td>False</td>\n",
       "      <td>False</td>\n",
       "      <td>False</td>\n",
       "      <td>True</td>\n",
       "      <td>False</td>\n",
       "      <td>True</td>\n",
       "      <td>False</td>\n",
       "      <td>False</td>\n",
       "      <td>True</td>\n",
       "      <td>False</td>\n",
       "    </tr>\n",
       "    <tr>\n",
       "      <th>4</th>\n",
       "      <td>120</td>\n",
       "      <td>354</td>\n",
       "      <td>1</td>\n",
       "      <td>163</td>\n",
       "      <td>1</td>\n",
       "      <td>0.6</td>\n",
       "      <td>2</td>\n",
       "      <td>0</td>\n",
       "      <td>2</td>\n",
       "      <td>1</td>\n",
       "      <td>...</td>\n",
       "      <td>False</td>\n",
       "      <td>False</td>\n",
       "      <td>True</td>\n",
       "      <td>False</td>\n",
       "      <td>True</td>\n",
       "      <td>False</td>\n",
       "      <td>False</td>\n",
       "      <td>False</td>\n",
       "      <td>True</td>\n",
       "      <td>False</td>\n",
       "    </tr>\n",
       "  </tbody>\n",
       "</table>\n",
       "<p>5 rows × 23 columns</p>\n",
       "</div>"
      ],
      "text/plain": [
       "   trestbps  chol  restecg  thalach  exang  oldpeak  slope  ca  thal  target  \\\n",
       "0       145   233        0      150      0      2.3      0   0     1       1   \n",
       "1       130   250        1      187      0      3.5      0   0     2       1   \n",
       "2       130   204        0      172      0      1.4      2   0     2       1   \n",
       "3       120   236        1      178      0      0.8      2   0     2       1   \n",
       "4       120   354        1      163      1      0.6      2   0     2       1   \n",
       "\n",
       "   ...  AgeGrp_4.0  AgeGrp_5.0  Sex_0  Sex_1   CP_0   CP_1   CP_2   CP_3  \\\n",
       "0  ...        True       False  False   True  False  False  False   True   \n",
       "1  ...       False       False  False   True  False  False   True  False   \n",
       "2  ...       False       False   True  False  False   True  False  False   \n",
       "3  ...       False       False  False   True  False   True  False  False   \n",
       "4  ...       False       False   True  False   True  False  False  False   \n",
       "\n",
       "   fbs_0  fbs_1  \n",
       "0  False   True  \n",
       "1   True  False  \n",
       "2   True  False  \n",
       "3   True  False  \n",
       "4   True  False  \n",
       "\n",
       "[5 rows x 23 columns]"
      ]
     },
     "execution_count": 62,
     "metadata": {},
     "output_type": "execute_result"
    }
   ],
   "source": [
    "data = pd.get_dummies(data,columns=['fbs'],prefix='fbs')\n",
    "data.head()"
   ]
  },
  {
   "cell_type": "markdown",
   "id": "16ed2d90-32a8-44e3-b00e-4ab156e5c371",
   "metadata": {},
   "source": [
    "##### -_restecg_\n",
    "The electrocardiogram (ECG or EKG) is a noninvasive test that is used to reflect underlying heart conditions by measuring the electrical activity of the heart. By positioning leads (electrical sensing devices) on the body in standardized locations, health care professionals can learn information about many heart conditions by looking for characteristic patterns on the EKG.\n",
    "\n",
    "from https://www.medicinenet.com/electrocardiogram_ecg_or_ekg/article.htm\n",
    "\n"
   ]
  },
  {
   "cell_type": "code",
   "execution_count": 120,
   "id": "c4eb3fa5-0bd4-4385-b903-f9ca5b8e5cf1",
   "metadata": {
    "tags": []
   },
   "outputs": [
    {
     "data": {
      "text/plain": [
       "<Axes: ylabel='count'>"
      ]
     },
     "execution_count": 120,
     "metadata": {},
     "output_type": "execute_result"
    },
    {
     "data": {
      "image/png": "[encoded data removed]",
      "text/plain": [
       "<Figure size 640x480 with 1 Axes>"
      ]
     },
     "metadata": {},
     "output_type": "display_data"
    }
   ],
   "source": [
    "sns.countplot(data['restecg'])"
   ]
  },
  {
   "cell_type": "code",
   "execution_count": 64,
   "id": "f418aca2-d6ec-4eff-a93f-c4fb04526509",
   "metadata": {
    "tags": []
   },
   "outputs": [
    {
     "data": {
      "text/html": [
       "<div>\n",
       "<style scoped>\n",
       "    .dataframe tbody tr th:only-of-type {\n",
       "        vertical-align: middle;\n",
       "    }\n",
       "\n",
       "    .dataframe tbody tr th {\n",
       "        vertical-align: top;\n",
       "    }\n",
       "\n",
       "    .dataframe thead th {\n",
       "        text-align: right;\n",
       "    }\n",
       "</style>\n",
       "<table border=\"1\" class=\"dataframe\">\n",
       "  <thead>\n",
       "    <tr style=\"text-align: right;\">\n",
       "      <th></th>\n",
       "      <th>trestbps</th>\n",
       "      <th>chol</th>\n",
       "      <th>thalach</th>\n",
       "      <th>exang</th>\n",
       "      <th>oldpeak</th>\n",
       "      <th>slope</th>\n",
       "      <th>ca</th>\n",
       "      <th>thal</th>\n",
       "      <th>target</th>\n",
       "      <th>AgeGrp_1.0</th>\n",
       "      <th>...</th>\n",
       "      <th>Sex_1</th>\n",
       "      <th>CP_0</th>\n",
       "      <th>CP_1</th>\n",
       "      <th>CP_2</th>\n",
       "      <th>CP_3</th>\n",
       "      <th>fbs_0</th>\n",
       "      <th>fbs_1</th>\n",
       "      <th>restecg_0</th>\n",
       "      <th>restecg_1</th>\n",
       "      <th>restecg_2</th>\n",
       "    </tr>\n",
       "  </thead>\n",
       "  <tbody>\n",
       "    <tr>\n",
       "      <th>0</th>\n",
       "      <td>145</td>\n",
       "      <td>233</td>\n",
       "      <td>150</td>\n",
       "      <td>0</td>\n",
       "      <td>2.3</td>\n",
       "      <td>0</td>\n",
       "      <td>0</td>\n",
       "      <td>1</td>\n",
       "      <td>1</td>\n",
       "      <td>False</td>\n",
       "      <td>...</td>\n",
       "      <td>True</td>\n",
       "      <td>False</td>\n",
       "      <td>False</td>\n",
       "      <td>False</td>\n",
       "      <td>True</td>\n",
       "      <td>False</td>\n",
       "      <td>True</td>\n",
       "      <td>True</td>\n",
       "      <td>False</td>\n",
       "      <td>False</td>\n",
       "    </tr>\n",
       "    <tr>\n",
       "      <th>1</th>\n",
       "      <td>130</td>\n",
       "      <td>250</td>\n",
       "      <td>187</td>\n",
       "      <td>0</td>\n",
       "      <td>3.5</td>\n",
       "      <td>0</td>\n",
       "      <td>0</td>\n",
       "      <td>2</td>\n",
       "      <td>1</td>\n",
       "      <td>True</td>\n",
       "      <td>...</td>\n",
       "      <td>True</td>\n",
       "      <td>False</td>\n",
       "      <td>False</td>\n",
       "      <td>True</td>\n",
       "      <td>False</td>\n",
       "      <td>True</td>\n",
       "      <td>False</td>\n",
       "      <td>False</td>\n",
       "      <td>True</td>\n",
       "      <td>False</td>\n",
       "    </tr>\n",
       "    <tr>\n",
       "      <th>2</th>\n",
       "      <td>130</td>\n",
       "      <td>204</td>\n",
       "      <td>172</td>\n",
       "      <td>0</td>\n",
       "      <td>1.4</td>\n",
       "      <td>2</td>\n",
       "      <td>0</td>\n",
       "      <td>2</td>\n",
       "      <td>1</td>\n",
       "      <td>False</td>\n",
       "      <td>...</td>\n",
       "      <td>False</td>\n",
       "      <td>False</td>\n",
       "      <td>True</td>\n",
       "      <td>False</td>\n",
       "      <td>False</td>\n",
       "      <td>True</td>\n",
       "      <td>False</td>\n",
       "      <td>True</td>\n",
       "      <td>False</td>\n",
       "      <td>False</td>\n",
       "    </tr>\n",
       "    <tr>\n",
       "      <th>3</th>\n",
       "      <td>120</td>\n",
       "      <td>236</td>\n",
       "      <td>178</td>\n",
       "      <td>0</td>\n",
       "      <td>0.8</td>\n",
       "      <td>2</td>\n",
       "      <td>0</td>\n",
       "      <td>2</td>\n",
       "      <td>1</td>\n",
       "      <td>False</td>\n",
       "      <td>...</td>\n",
       "      <td>True</td>\n",
       "      <td>False</td>\n",
       "      <td>True</td>\n",
       "      <td>False</td>\n",
       "      <td>False</td>\n",
       "      <td>True</td>\n",
       "      <td>False</td>\n",
       "      <td>False</td>\n",
       "      <td>True</td>\n",
       "      <td>False</td>\n",
       "    </tr>\n",
       "    <tr>\n",
       "      <th>4</th>\n",
       "      <td>120</td>\n",
       "      <td>354</td>\n",
       "      <td>163</td>\n",
       "      <td>1</td>\n",
       "      <td>0.6</td>\n",
       "      <td>2</td>\n",
       "      <td>0</td>\n",
       "      <td>2</td>\n",
       "      <td>1</td>\n",
       "      <td>False</td>\n",
       "      <td>...</td>\n",
       "      <td>False</td>\n",
       "      <td>True</td>\n",
       "      <td>False</td>\n",
       "      <td>False</td>\n",
       "      <td>False</td>\n",
       "      <td>True</td>\n",
       "      <td>False</td>\n",
       "      <td>False</td>\n",
       "      <td>True</td>\n",
       "      <td>False</td>\n",
       "    </tr>\n",
       "  </tbody>\n",
       "</table>\n",
       "<p>5 rows × 25 columns</p>\n",
       "</div>"
      ],
      "text/plain": [
       "   trestbps  chol  thalach  exang  oldpeak  slope  ca  thal  target  \\\n",
       "0       145   233      150      0      2.3      0   0     1       1   \n",
       "1       130   250      187      0      3.5      0   0     2       1   \n",
       "2       130   204      172      0      1.4      2   0     2       1   \n",
       "3       120   236      178      0      0.8      2   0     2       1   \n",
       "4       120   354      163      1      0.6      2   0     2       1   \n",
       "\n",
       "   AgeGrp_1.0  ...  Sex_1   CP_0   CP_1   CP_2   CP_3  fbs_0  fbs_1  \\\n",
       "0       False  ...   True  False  False  False   True  False   True   \n",
       "1        True  ...   True  False  False   True  False   True  False   \n",
       "2       False  ...  False  False   True  False  False   True  False   \n",
       "3       False  ...   True  False   True  False  False   True  False   \n",
       "4       False  ...  False   True  False  False  False   True  False   \n",
       "\n",
       "   restecg_0  restecg_1  restecg_2  \n",
       "0       True      False      False  \n",
       "1      False       True      False  \n",
       "2       True      False      False  \n",
       "3      False       True      False  \n",
       "4      False       True      False  \n",
       "\n",
       "[5 rows x 25 columns]"
      ]
     },
     "execution_count": 64,
     "metadata": {},
     "output_type": "execute_result"
    }
   ],
   "source": [
    "data = pd.get_dummies(data,columns=['restecg'],prefix='restecg')\n",
    "data.head()"
   ]
  },
  {
   "cell_type": "markdown",
   "id": "2d9defeb-8eb2-4319-b334-d1ca0cc283b2",
   "metadata": {},
   "source": [
    "##### -_thalach_"
   ]
  },
  {
   "cell_type": "code",
   "execution_count": 65,
   "id": "8773bab0-18a5-4645-835c-aad5fd6fc643",
   "metadata": {
    "tags": []
   },
   "outputs": [
    {
     "data": {
      "text/plain": [
       "<seaborn.axisgrid.FacetGrid at 0x1ad0a25e210>"
      ]
     },
     "execution_count": 65,
     "metadata": {},
     "output_type": "execute_result"
    },
    {
     "data": {
      "image/png": "[encoded data removed]",
      "text/plain": [
       "<Figure size 600x300 with 2 Axes>"
      ]
     },
     "metadata": {},
     "output_type": "display_data"
    }
   ],
   "source": [
    "g= sns.FacetGrid(data,col='target')\n",
    "g.map(sns.distplot,'thalach')"
   ]
  },
  {
   "cell_type": "markdown",
   "id": "a56f621f-844f-4c2f-b629-8713182b0544",
   "metadata": {},
   "source": [
    "##### -_exang_\n",
    "\n",
    "\n",
    "Angina is a type of chest pain caused by reduced blood flow to the heart. Angina (an-JIE-nuh or AN-juh-nuh) is a symptom of coronary artery disease.\n",
    "\n",
    "Angina, also called angina pectoris, is often described as squeezing, pressure, heaviness, tightness or pain in your chest. Some people with angina symptoms say angina feels like a vise squeezing their chest or a heavy weight lying on their chest. Angina may be a new pain that needs to be checked by a doctor, or recurring pain that goes away with treatment.\n",
    "\n",
    "Although angina is relatively common, it can still be hard to distinguish from other types of chest pain, such as the discomfort of indigestion. If you have unexplained chest pain, seek medical attention right away.\n",
    "\n",
    "https://www.mayoclinic.org/diseases-conditions/angina/symptoms-causes/syc-20369373"
   ]
  },
  {
   "cell_type": "code",
   "execution_count": 66,
   "id": "b539563a-c20b-4ec7-9b22-55b52a883ee5",
   "metadata": {
    "tags": []
   },
   "outputs": [
    {
     "data": {
      "text/plain": [
       "exang\n",
       "0    204\n",
       "1     99\n",
       "Name: count, dtype: int64"
      ]
     },
     "execution_count": 66,
     "metadata": {},
     "output_type": "execute_result"
    }
   ],
   "source": [
    "data['exang'].value_counts()"
   ]
  },
  {
   "cell_type": "code",
   "execution_count": 118,
   "id": "0c56c180-c767-4880-a655-d5b38c3896fc",
   "metadata": {
    "tags": []
   },
   "outputs": [
    {
     "data": {
      "text/plain": [
       "<Axes: ylabel='count'>"
      ]
     },
     "execution_count": 118,
     "metadata": {},
     "output_type": "execute_result"
    },
    {
     "data": {
      "image/png": "[encoded data removed]",
      "text/plain": [
       "<Figure size 640x480 with 1 Axes>"
      ]
     },
     "metadata": {},
     "output_type": "display_data"
    }
   ],
   "source": [
    "sns.countplot(data['fbs'])"
   ]
  },
  {
   "cell_type": "code",
   "execution_count": 68,
   "id": "1998c049-fa56-4d71-9559-a62cdd08e091",
   "metadata": {
    "tags": []
   },
   "outputs": [],
   "source": [
    "data = pd.get_dummies(data,columns=['exang'],prefix='exang')"
   ]
  },
  {
   "cell_type": "markdown",
   "id": "9ad78471-16b8-4c8e-8938-e4ac2884e5c7",
   "metadata": {
    "tags": []
   },
   "source": [
    "##### -_oldpeak_\n",
    "\n",
    "In a cardiac stress test, an ST depression of at least 1 mm after adenosine administration indicates a reversible ischaemia, while an exercise stress test requires an ST depression of at least 2 mm to significantly indicate reversible ischaemia.\n",
    "\n",
    "https://en.wikipedia.org/wiki/ST_depression"
   ]
  },
  {
   "cell_type": "code",
   "execution_count": 69,
   "id": "a209b83f-8ec3-45ac-8385-25e7a19d0e5e",
   "metadata": {
    "tags": []
   },
   "outputs": [
    {
     "data": {
      "text/plain": [
       "<Axes: xlabel='oldpeak', ylabel='Density'>"
      ]
     },
     "execution_count": 69,
     "metadata": {},
     "output_type": "execute_result"
    },
    {
     "data": {
      "image/png": "[encoded data removed]",
      "text/plain": [
       "<Figure size 640x480 with 1 Axes>"
      ]
     },
     "metadata": {},
     "output_type": "display_data"
    }
   ],
   "source": [
    "sns.distplot(data['oldpeak'])"
   ]
  },
  {
   "cell_type": "code",
   "execution_count": 70,
   "id": "0e54ae99-f0b9-4e73-8ef1-ea0023b8332e",
   "metadata": {
    "tags": []
   },
   "outputs": [
    {
     "data": {
      "text/plain": [
       "<seaborn.axisgrid.FacetGrid at 0x1ad0b801190>"
      ]
     },
     "execution_count": 70,
     "metadata": {},
     "output_type": "execute_result"
    },
    {
     "data": {
      "image/png": "[encoded data removed]",
      "text/plain": [
       "<Figure size 600x300 with 2 Axes>"
      ]
     },
     "metadata": {},
     "output_type": "display_data"
    }
   ],
   "source": [
    "g= sns.FacetGrid(data,col='target')\n",
    "g.map(sns.distplot,'oldpeak')"
   ]
  },
  {
   "cell_type": "markdown",
   "id": "b9fda4f3-eda3-4b12-a41c-a1d889be463e",
   "metadata": {},
   "source": [
    "##### -_slope_"
   ]
  },
  {
   "cell_type": "code",
   "execution_count": 71,
   "id": "6dc729b6-5e41-44ee-9b95-be0bd7748ec7",
   "metadata": {
    "tags": []
   },
   "outputs": [],
   "source": [
    "data = pd.get_dummies(data,columns=['slope'],prefix='slope')"
   ]
  },
  {
   "cell_type": "markdown",
   "id": "6044370f-94dd-4fcc-9655-f9e325f32ab4",
   "metadata": {
    "tags": []
   },
   "source": [
    "##### -_ca_"
   ]
  },
  {
   "cell_type": "code",
   "execution_count": 72,
   "id": "50dd5c34-9f20-4d29-89f3-6cac0053833f",
   "metadata": {
    "tags": []
   },
   "outputs": [
    {
     "data": {
      "text/plain": [
       "<Axes: xlabel='ca', ylabel='target'>"
      ]
     },
     "execution_count": 72,
     "metadata": {},
     "output_type": "execute_result"
    },
    {
     "data": {
      "image/png": "[encoded data removed]",
      "text/plain": [
       "<Figure size 640x480 with 1 Axes>"
      ]
     },
     "metadata": {},
     "output_type": "display_data"
    }
   ],
   "source": [
    "sns.barplot(x='ca',y='target',data=data)"
   ]
  },
  {
   "cell_type": "code",
   "execution_count": 73,
   "id": "88280d9d-bacb-4a36-b9bb-719cf2889713",
   "metadata": {
    "tags": []
   },
   "outputs": [],
   "source": [
    "data = pd.get_dummies(data,columns=['ca'],prefix='ca')"
   ]
  },
  {
   "cell_type": "markdown",
   "id": "a2c74308-0b19-41c5-ace6-3a4ead72a86e",
   "metadata": {},
   "source": [
    "##### -_thal_"
   ]
  },
  {
   "cell_type": "code",
   "execution_count": 74,
   "id": "7a4c4f7a-8ce4-45f0-b916-a33d435d8944",
   "metadata": {
    "tags": []
   },
   "outputs": [
    {
     "data": {
      "text/plain": [
       "<Axes: xlabel='thal', ylabel='target'>"
      ]
     },
     "execution_count": 74,
     "metadata": {},
     "output_type": "execute_result"
    },
    {
     "data": {
      "image/png": "[encoded data removed]",
      "text/plain": [
       "<Figure size 640x480 with 1 Axes>"
      ]
     },
     "metadata": {},
     "output_type": "display_data"
    }
   ],
   "source": [
    "sns.barplot(x='thal',y='target',data=data)"
   ]
  },
  {
   "cell_type": "code",
   "execution_count": 75,
   "id": "f28ca607-3a5c-4b7e-9ff2-b34ecbd15b5b",
   "metadata": {
    "tags": []
   },
   "outputs": [],
   "source": [
    "data = pd.get_dummies(data,columns=['thal'],prefix='thal')"
   ]
  },
  {
   "cell_type": "code",
   "execution_count": 76,
   "id": "ada9019a-fdb6-4751-bea4-5f2325e395e1",
   "metadata": {
    "tags": []
   },
   "outputs": [
    {
     "name": "stdout",
     "output_type": "stream",
     "text": [
      "<class 'pandas.core.frame.DataFrame'>\n",
      "RangeIndex: 303 entries, 0 to 302\n",
      "Data columns (total 35 columns):\n",
      " #   Column      Non-Null Count  Dtype  \n",
      "---  ------      --------------  -----  \n",
      " 0   trestbps    303 non-null    int64  \n",
      " 1   chol        303 non-null    int64  \n",
      " 2   thalach     303 non-null    int64  \n",
      " 3   oldpeak     303 non-null    float64\n",
      " 4   target      303 non-null    int64  \n",
      " 5   AgeGrp_1.0  303 non-null    bool   \n",
      " 6   AgeGrp_2.0  303 non-null    bool   \n",
      " 7   AgeGrp_3.0  303 non-null    bool   \n",
      " 8   AgeGrp_4.0  303 non-null    bool   \n",
      " 9   AgeGrp_5.0  303 non-null    bool   \n",
      " 10  Sex_0       303 non-null    bool   \n",
      " 11  Sex_1       303 non-null    bool   \n",
      " 12  CP_0        303 non-null    bool   \n",
      " 13  CP_1        303 non-null    bool   \n",
      " 14  CP_2        303 non-null    bool   \n",
      " 15  CP_3        303 non-null    bool   \n",
      " 16  fbs_0       303 non-null    bool   \n",
      " 17  fbs_1       303 non-null    bool   \n",
      " 18  restecg_0   303 non-null    bool   \n",
      " 19  restecg_1   303 non-null    bool   \n",
      " 20  restecg_2   303 non-null    bool   \n",
      " 21  exang_0     303 non-null    bool   \n",
      " 22  exang_1     303 non-null    bool   \n",
      " 23  slope_0     303 non-null    bool   \n",
      " 24  slope_1     303 non-null    bool   \n",
      " 25  slope_2     303 non-null    bool   \n",
      " 26  ca_0        303 non-null    bool   \n",
      " 27  ca_1        303 non-null    bool   \n",
      " 28  ca_2        303 non-null    bool   \n",
      " 29  ca_3        303 non-null    bool   \n",
      " 30  ca_4        303 non-null    bool   \n",
      " 31  thal_0      303 non-null    bool   \n",
      " 32  thal_1      303 non-null    bool   \n",
      " 33  thal_2      303 non-null    bool   \n",
      " 34  thal_3      303 non-null    bool   \n",
      "dtypes: bool(30), float64(1), int64(4)\n",
      "memory usage: 20.8 KB\n"
     ]
    }
   ],
   "source": [
    "data.info()"
   ]
  },
  {
   "cell_type": "code",
   "execution_count": 77,
   "id": "46bce441-34ef-43e4-99df-3247e2c5f7ab",
   "metadata": {
    "tags": []
   },
   "outputs": [],
   "source": [
    "target = data['target']\n",
    "data.drop('target',axis=1,inplace=True)"
   ]
  },
  {
   "cell_type": "markdown",
   "id": "ba9fb407-e639-4b32-bc9d-52e1c844fd7c",
   "metadata": {},
   "source": [
    "# Normalize nomeric data"
   ]
  },
  {
   "cell_type": "code",
   "execution_count": 78,
   "id": "8dc406e7-e144-4fb7-9f89-72ac0570a508",
   "metadata": {
    "tags": []
   },
   "outputs": [
    {
     "data": {
      "text/plain": [
       "Index(['trestbps', 'chol', 'thalach', 'oldpeak', 'AgeGrp_1.0', 'AgeGrp_2.0',\n",
       "       'AgeGrp_3.0', 'AgeGrp_4.0', 'AgeGrp_5.0', 'Sex_0', 'Sex_1', 'CP_0',\n",
       "       'CP_1', 'CP_2', 'CP_3', 'fbs_0', 'fbs_1', 'restecg_0', 'restecg_1',\n",
       "       'restecg_2', 'exang_0', 'exang_1', 'slope_0', 'slope_1', 'slope_2',\n",
       "       'ca_0', 'ca_1', 'ca_2', 'ca_3', 'ca_4', 'thal_0', 'thal_1', 'thal_2',\n",
       "       'thal_3'],\n",
       "      dtype='object')"
      ]
     },
     "execution_count": 78,
     "metadata": {},
     "output_type": "execute_result"
    }
   ],
   "source": [
    "numeric_feats = data.dtypes[data.dtypes != \"uint8\" ].index\n",
    "numeric_feats"
   ]
  },
  {
   "cell_type": "code",
   "execution_count": 79,
   "id": "8c5af272-97dc-40f3-afc0-210b0a68210e",
   "metadata": {
    "tags": []
   },
   "outputs": [],
   "source": [
    "ss= StandardScaler()\n",
    "data[numeric_feats] = ss.fit_transform(data[numeric_feats])"
   ]
  },
  {
   "cell_type": "code",
   "execution_count": 80,
   "id": "826fa90c-ee33-4724-8dc8-037201bf2573",
   "metadata": {
    "tags": []
   },
   "outputs": [
    {
     "data": {
      "text/html": [
       "<div>\n",
       "<style scoped>\n",
       "    .dataframe tbody tr th:only-of-type {\n",
       "        vertical-align: middle;\n",
       "    }\n",
       "\n",
       "    .dataframe tbody tr th {\n",
       "        vertical-align: top;\n",
       "    }\n",
       "\n",
       "    .dataframe thead th {\n",
       "        text-align: right;\n",
       "    }\n",
       "</style>\n",
       "<table border=\"1\" class=\"dataframe\">\n",
       "  <thead>\n",
       "    <tr style=\"text-align: right;\">\n",
       "      <th></th>\n",
       "      <th>trestbps</th>\n",
       "      <th>chol</th>\n",
       "      <th>thalach</th>\n",
       "      <th>oldpeak</th>\n",
       "      <th>AgeGrp_1.0</th>\n",
       "      <th>AgeGrp_2.0</th>\n",
       "      <th>AgeGrp_3.0</th>\n",
       "      <th>AgeGrp_4.0</th>\n",
       "      <th>AgeGrp_5.0</th>\n",
       "      <th>Sex_0</th>\n",
       "      <th>...</th>\n",
       "      <th>slope_2</th>\n",
       "      <th>ca_0</th>\n",
       "      <th>ca_1</th>\n",
       "      <th>ca_2</th>\n",
       "      <th>ca_3</th>\n",
       "      <th>ca_4</th>\n",
       "      <th>thal_0</th>\n",
       "      <th>thal_1</th>\n",
       "      <th>thal_2</th>\n",
       "      <th>thal_3</th>\n",
       "    </tr>\n",
       "  </thead>\n",
       "  <tbody>\n",
       "    <tr>\n",
       "      <th>0</th>\n",
       "      <td>0.763956</td>\n",
       "      <td>-0.256334</td>\n",
       "      <td>0.015443</td>\n",
       "      <td>1.087338</td>\n",
       "      <td>-0.203069</td>\n",
       "      <td>-0.553204</td>\n",
       "      <td>-0.686202</td>\n",
       "      <td>1.363265</td>\n",
       "      <td>-0.243804</td>\n",
       "      <td>-0.681005</td>\n",
       "      <td>...</td>\n",
       "      <td>-0.939142</td>\n",
       "      <td>0.855236</td>\n",
       "      <td>-0.522599</td>\n",
       "      <td>-0.378677</td>\n",
       "      <td>-0.265841</td>\n",
       "      <td>-0.129532</td>\n",
       "      <td>-0.081514</td>\n",
       "      <td>3.979112</td>\n",
       "      <td>-1.100763</td>\n",
       "      <td>-0.793116</td>\n",
       "    </tr>\n",
       "    <tr>\n",
       "      <th>1</th>\n",
       "      <td>-0.092738</td>\n",
       "      <td>0.072199</td>\n",
       "      <td>1.633471</td>\n",
       "      <td>2.122573</td>\n",
       "      <td>4.924429</td>\n",
       "      <td>-0.553204</td>\n",
       "      <td>-0.686202</td>\n",
       "      <td>-0.733533</td>\n",
       "      <td>-0.243804</td>\n",
       "      <td>-0.681005</td>\n",
       "      <td>...</td>\n",
       "      <td>-0.939142</td>\n",
       "      <td>0.855236</td>\n",
       "      <td>-0.522599</td>\n",
       "      <td>-0.378677</td>\n",
       "      <td>-0.265841</td>\n",
       "      <td>-0.129532</td>\n",
       "      <td>-0.081514</td>\n",
       "      <td>-0.251312</td>\n",
       "      <td>0.908461</td>\n",
       "      <td>-0.793116</td>\n",
       "    </tr>\n",
       "    <tr>\n",
       "      <th>2</th>\n",
       "      <td>-0.092738</td>\n",
       "      <td>-0.816773</td>\n",
       "      <td>0.977514</td>\n",
       "      <td>0.310912</td>\n",
       "      <td>-0.203069</td>\n",
       "      <td>1.807652</td>\n",
       "      <td>-0.686202</td>\n",
       "      <td>-0.733533</td>\n",
       "      <td>-0.243804</td>\n",
       "      <td>1.468418</td>\n",
       "      <td>...</td>\n",
       "      <td>1.064802</td>\n",
       "      <td>0.855236</td>\n",
       "      <td>-0.522599</td>\n",
       "      <td>-0.378677</td>\n",
       "      <td>-0.265841</td>\n",
       "      <td>-0.129532</td>\n",
       "      <td>-0.081514</td>\n",
       "      <td>-0.251312</td>\n",
       "      <td>0.908461</td>\n",
       "      <td>-0.793116</td>\n",
       "    </tr>\n",
       "    <tr>\n",
       "      <th>3</th>\n",
       "      <td>-0.663867</td>\n",
       "      <td>-0.198357</td>\n",
       "      <td>1.239897</td>\n",
       "      <td>-0.206705</td>\n",
       "      <td>-0.203069</td>\n",
       "      <td>-0.553204</td>\n",
       "      <td>1.457296</td>\n",
       "      <td>-0.733533</td>\n",
       "      <td>-0.243804</td>\n",
       "      <td>-0.681005</td>\n",
       "      <td>...</td>\n",
       "      <td>1.064802</td>\n",
       "      <td>0.855236</td>\n",
       "      <td>-0.522599</td>\n",
       "      <td>-0.378677</td>\n",
       "      <td>-0.265841</td>\n",
       "      <td>-0.129532</td>\n",
       "      <td>-0.081514</td>\n",
       "      <td>-0.251312</td>\n",
       "      <td>0.908461</td>\n",
       "      <td>-0.793116</td>\n",
       "    </tr>\n",
       "    <tr>\n",
       "      <th>4</th>\n",
       "      <td>-0.663867</td>\n",
       "      <td>2.082050</td>\n",
       "      <td>0.583939</td>\n",
       "      <td>-0.379244</td>\n",
       "      <td>-0.203069</td>\n",
       "      <td>-0.553204</td>\n",
       "      <td>1.457296</td>\n",
       "      <td>-0.733533</td>\n",
       "      <td>-0.243804</td>\n",
       "      <td>1.468418</td>\n",
       "      <td>...</td>\n",
       "      <td>1.064802</td>\n",
       "      <td>0.855236</td>\n",
       "      <td>-0.522599</td>\n",
       "      <td>-0.378677</td>\n",
       "      <td>-0.265841</td>\n",
       "      <td>-0.129532</td>\n",
       "      <td>-0.081514</td>\n",
       "      <td>-0.251312</td>\n",
       "      <td>0.908461</td>\n",
       "      <td>-0.793116</td>\n",
       "    </tr>\n",
       "  </tbody>\n",
       "</table>\n",
       "<p>5 rows × 34 columns</p>\n",
       "</div>"
      ],
      "text/plain": [
       "   trestbps      chol   thalach   oldpeak  AgeGrp_1.0  AgeGrp_2.0  AgeGrp_3.0  \\\n",
       "0  0.763956 -0.256334  0.015443  1.087338   -0.203069   -0.553204   -0.686202   \n",
       "1 -0.092738  0.072199  1.633471  2.122573    4.924429   -0.553204   -0.686202   \n",
       "2 -0.092738 -0.816773  0.977514  0.310912   -0.203069    1.807652   -0.686202   \n",
       "3 -0.663867 -0.198357  1.239897 -0.206705   -0.203069   -0.553204    1.457296   \n",
       "4 -0.663867  2.082050  0.583939 -0.379244   -0.203069   -0.553204    1.457296   \n",
       "\n",
       "   AgeGrp_4.0  AgeGrp_5.0     Sex_0  ...   slope_2      ca_0      ca_1  \\\n",
       "0    1.363265   -0.243804 -0.681005  ... -0.939142  0.855236 -0.522599   \n",
       "1   -0.733533   -0.243804 -0.681005  ... -0.939142  0.855236 -0.522599   \n",
       "2   -0.733533   -0.243804  1.468418  ...  1.064802  0.855236 -0.522599   \n",
       "3   -0.733533   -0.243804 -0.681005  ...  1.064802  0.855236 -0.522599   \n",
       "4   -0.733533   -0.243804  1.468418  ...  1.064802  0.855236 -0.522599   \n",
       "\n",
       "       ca_2      ca_3      ca_4    thal_0    thal_1    thal_2    thal_3  \n",
       "0 -0.378677 -0.265841 -0.129532 -0.081514  3.979112 -1.100763 -0.793116  \n",
       "1 -0.378677 -0.265841 -0.129532 -0.081514 -0.251312  0.908461 -0.793116  \n",
       "2 -0.378677 -0.265841 -0.129532 -0.081514 -0.251312  0.908461 -0.793116  \n",
       "3 -0.378677 -0.265841 -0.129532 -0.081514 -0.251312  0.908461 -0.793116  \n",
       "4 -0.378677 -0.265841 -0.129532 -0.081514 -0.251312  0.908461 -0.793116  \n",
       "\n",
       "[5 rows x 34 columns]"
      ]
     },
     "execution_count": 80,
     "metadata": {},
     "output_type": "execute_result"
    }
   ],
   "source": [
    "data.head()"
   ]
  },
  {
   "cell_type": "markdown",
   "id": "97bce835-00c8-4243-8f0d-8d5654d16ff5",
   "metadata": {},
   "source": [
    "# Modeling\n",
    "\n",
    "* Gradient Boosting\n",
    "* Random forest\n",
    "* Adaboost\n",
    "* SVM"
   ]
  },
  {
   "cell_type": "code",
   "execution_count": 81,
   "id": "8618d2b5-7469-430d-a019-dd152a0d9722",
   "metadata": {
    "tags": []
   },
   "outputs": [],
   "source": [
    "#split data to train and test \n",
    "x_train,x_test,y_train,y_test = train_test_split(data.values , target.values ,train_size = 0.75)"
   ]
  },
  {
   "cell_type": "code",
   "execution_count": 82,
   "id": "26edde6a-e456-4476-bf26-4fc3777653e4",
   "metadata": {
    "tags": []
   },
   "outputs": [
    {
     "name": "stdout",
     "output_type": "stream",
     "text": [
      "(227, 34)  (227,) (76, 34) (76,)\n"
     ]
    }
   ],
   "source": [
    "print(f'{x_train.shape}  {y_train.shape} {x_test.shape} {y_test.shape}')"
   ]
  },
  {
   "cell_type": "markdown",
   "id": "859da128-6387-4a46-b2ef-d45a041f1822",
   "metadata": {
    "tags": []
   },
   "source": [
    "##### _cross validation_"
   ]
  },
  {
   "cell_type": "code",
   "execution_count": 83,
   "id": "4b7c5687-706a-4783-916d-d5bd27dcbc85",
   "metadata": {
    "tags": []
   },
   "outputs": [],
   "source": [
    "def run_cv_model(classifier,x,y,**params):\n",
    "    clf = classifier(**params)\n",
    "    \n",
    "    scores = cross_val_score(clf,x,y,cv=5)\n",
    "\n",
    "    return round(scores.mean() * 100,2)"
   ]
  },
  {
   "cell_type": "markdown",
   "id": "b10078cb-eba5-4b39-af46-a72033db096e",
   "metadata": {},
   "source": [
    "##### -_Gradient boosting_"
   ]
  },
  {
   "cell_type": "code",
   "execution_count": 85,
   "id": "3f93e336-47c7-4279-9fa7-d40dd244568a",
   "metadata": {
    "tags": []
   },
   "outputs": [
    {
     "data": {
      "text/plain": [
       "75.82"
      ]
     },
     "execution_count": 85,
     "metadata": {},
     "output_type": "execute_result"
    }
   ],
   "source": [
    "gb_score = run_cv_model(GradientBoostingClassifier,x_train,y_train ,learning_rate = 0.1,n_estimators =500)\n",
    "gb_score"
   ]
  },
  {
   "cell_type": "code",
   "execution_count": 86,
   "id": "f788d181-eb02-4718-bac6-9cb150b5487b",
   "metadata": {
    "tags": []
   },
   "outputs": [
    {
     "data": {
      "text/plain": [
       "74.02"
      ]
     },
     "execution_count": 86,
     "metadata": {},
     "output_type": "execute_result"
    }
   ],
   "source": [
    "gb_score_1 =  run_cv_model(GradientBoostingClassifier,x_train,y_train ,learning_rate = 0.5,n_estimators= 500)\n",
    "gb_score_1"
   ]
  },
  {
   "cell_type": "code",
   "execution_count": 87,
   "id": "817de30d-a079-445f-b5e0-cdcbbb8bf496",
   "metadata": {
    "tags": []
   },
   "outputs": [
    {
     "data": {
      "text/plain": [
       "74.92"
      ]
     },
     "execution_count": 87,
     "metadata": {},
     "output_type": "execute_result"
    }
   ],
   "source": [
    "gb_score_2 =  run_cv_model(GradientBoostingClassifier,x_train,y_train ,learning_rate  = 0.1,n_estimators = 200)\n",
    "gb_score_2"
   ]
  },
  {
   "cell_type": "markdown",
   "id": "545fac9a-7f8e-44e3-a3c4-6a446cdf0b80",
   "metadata": {},
   "source": [
    "##### -_Random Forest_"
   ]
  },
  {
   "cell_type": "code",
   "execution_count": 88,
   "id": "33ba6385-eaae-46e6-b3cb-6401bb8c871f",
   "metadata": {
    "tags": []
   },
   "outputs": [
    {
     "data": {
      "text/plain": [
       "83.26"
      ]
     },
     "execution_count": 88,
     "metadata": {},
     "output_type": "execute_result"
    }
   ],
   "source": [
    "rf_score_1 = run_cv_model(RandomForestClassifier,x_train,y_train , n_estimators = 500 ,criterion ='gini',max_depth =1)\n",
    "rf_score_1"
   ]
  },
  {
   "cell_type": "code",
   "execution_count": 89,
   "id": "0e79e7fd-012d-418c-a9ab-1a747927a956",
   "metadata": {
    "tags": []
   },
   "outputs": [
    {
     "data": {
      "text/plain": [
       "83.25"
      ]
     },
     "execution_count": 89,
     "metadata": {},
     "output_type": "execute_result"
    }
   ],
   "source": [
    "rf_score_2 = run_cv_model(RandomForestClassifier,x_train,y_train , n_estimators =500 ,criterion ='entropy',max_depth =1)\n",
    "rf_score_2"
   ]
  },
  {
   "cell_type": "code",
   "execution_count": 90,
   "id": "b556e510-22c9-4ae8-bb37-766694dc1794",
   "metadata": {
    "tags": []
   },
   "outputs": [
    {
     "data": {
      "text/plain": [
       "84.12"
      ]
     },
     "execution_count": 90,
     "metadata": {},
     "output_type": "execute_result"
    }
   ],
   "source": [
    "rf_score_3 = run_cv_model(RandomForestClassifier,x_train,y_train , n_estimators =1000 ,criterion = 'entropy',max_depth =1)\n",
    "rf_score_3"
   ]
  },
  {
   "cell_type": "code",
   "execution_count": 91,
   "id": "c625e2ee-a21f-41d0-af28-62c15a6d2f26",
   "metadata": {
    "tags": []
   },
   "outputs": [
    {
     "data": {
      "text/plain": [
       "82.8"
      ]
     },
     "execution_count": 91,
     "metadata": {},
     "output_type": "execute_result"
    }
   ],
   "source": [
    "rf_score_4 = run_cv_model(RandomForestClassifier,x_train,y_train , n_estimators = 1000 ,criterion = 'gini',max_depth =1)\n",
    "rf_score_4"
   ]
  },
  {
   "cell_type": "markdown",
   "id": "029d44d5-ad5f-4f7b-9d32-f9723ad310d7",
   "metadata": {
    "tags": []
   },
   "source": [
    "##### -_AdaBoost_"
   ]
  },
  {
   "cell_type": "code",
   "execution_count": 92,
   "id": "ebaef5c4-1d24-4526-a269-f1fe21b9659b",
   "metadata": {
    "tags": []
   },
   "outputs": [
    {
     "data": {
      "text/plain": [
       "75.33"
      ]
     },
     "execution_count": 92,
     "metadata": {},
     "output_type": "execute_result"
    }
   ],
   "source": [
    "ab_score_1 = run_cv_model(AdaBoostClassifier,x_train,y_train , n_estimators = 100,learning_rate=1)\n",
    "ab_score_1  "
   ]
  },
  {
   "cell_type": "code",
   "execution_count": 93,
   "id": "ab5867e6-a527-41aa-a023-8f46a7874c3f",
   "metadata": {
    "tags": []
   },
   "outputs": [
    {
     "data": {
      "text/plain": [
       "71.36"
      ]
     },
     "execution_count": 93,
     "metadata": {},
     "output_type": "execute_result"
    }
   ],
   "source": [
    "ab_score_2 = run_cv_model(AdaBoostClassifier,x_train,y_train , n_estimators =1000,learning_rate=1)\n",
    "ab_score_2   "
   ]
  },
  {
   "cell_type": "code",
   "execution_count": 94,
   "id": "e6df321b-445c-40b7-953b-9122fc39a35f",
   "metadata": {
    "tags": []
   },
   "outputs": [
    {
     "data": {
      "text/plain": [
       "81.08"
      ]
     },
     "execution_count": 94,
     "metadata": {},
     "output_type": "execute_result"
    }
   ],
   "source": [
    "ab_score_3 = run_cv_model(AdaBoostClassifier,x_train,y_train , n_estimators =100,learning_rate =0.1)\n",
    "ab_score_3  "
   ]
  },
  {
   "cell_type": "code",
   "execution_count": 95,
   "id": "77fbd6f9-6994-499f-8cc7-582541dce5a8",
   "metadata": {
    "tags": []
   },
   "outputs": [
    {
     "data": {
      "text/plain": [
       "75.35"
      ]
     },
     "execution_count": 95,
     "metadata": {},
     "output_type": "execute_result"
    }
   ],
   "source": [
    "ab_score_4 = run_cv_model(AdaBoostClassifier,x_train,y_train , n_estimators = 1000,learning_rate= 0.1)\n",
    "ab_score_4   "
   ]
  },
  {
   "cell_type": "markdown",
   "id": "f5efacae-2425-41ea-a477-d28c509b805c",
   "metadata": {
    "tags": []
   },
   "source": [
    "##### -_SVM_"
   ]
  },
  {
   "cell_type": "code",
   "execution_count": 96,
   "id": "99f25340-1dcb-4744-847d-d8d2327410ec",
   "metadata": {
    "tags": []
   },
   "outputs": [
    {
     "data": {
      "text/plain": [
       "81.06"
      ]
     },
     "execution_count": 96,
     "metadata": {},
     "output_type": "execute_result"
    }
   ],
   "source": [
    "svm_score_1 = run_cv_model(SVC,x_train,y_train , C =1,kernel ='rbf')\n",
    "svm_score_1  "
   ]
  },
  {
   "cell_type": "code",
   "execution_count": 97,
   "id": "1ccb5daa-8f7f-4d97-be81-da2da3ee6579",
   "metadata": {
    "tags": []
   },
   "outputs": [
    {
     "data": {
      "text/plain": [
       "83.71"
      ]
     },
     "execution_count": 97,
     "metadata": {},
     "output_type": "execute_result"
    }
   ],
   "source": [
    "svm_score_2 = run_cv_model(SVC,x_train,y_train , C =0.1,kernel ='rbf')\n",
    "svm_score_2 "
   ]
  },
  {
   "cell_type": "code",
   "execution_count": 98,
   "id": "eef0a304-d94b-4a24-92c2-f1fc6b11c7b7",
   "metadata": {
    "tags": []
   },
   "outputs": [
    {
     "data": {
      "text/plain": [
       "78.85"
      ]
     },
     "execution_count": 98,
     "metadata": {},
     "output_type": "execute_result"
    }
   ],
   "source": [
    "svm_score_3 = run_cv_model(SVC,x_train,y_train , C = 1,kernel = 'linear')\n",
    "svm_score_3"
   ]
  },
  {
   "cell_type": "code",
   "execution_count": 99,
   "id": "1c59f3b9-ce93-4331-9f64-32de08864232",
   "metadata": {
    "tags": []
   },
   "outputs": [
    {
     "data": {
      "text/plain": [
       "79.3"
      ]
     },
     "execution_count": 99,
     "metadata": {},
     "output_type": "execute_result"
    }
   ],
   "source": [
    "svm_score_4 = run_cv_model(SVC,x_train,y_train , C= 0.1,kernel='linear')\n",
    "svm_score_4"
   ]
  },
  {
   "cell_type": "code",
   "execution_count": 100,
   "id": "ef6fc9bc-7d7d-43f2-917a-65dc389ab9ca",
   "metadata": {
    "tags": []
   },
   "outputs": [
    {
     "data": {
      "text/plain": [
       "82.8"
      ]
     },
     "execution_count": 100,
     "metadata": {},
     "output_type": "execute_result"
    }
   ],
   "source": [
    "svm_score_5 = run_cv_model(SVC,x_train,y_train , C =1,kernel ='poly')\n",
    "svm_score_5"
   ]
  },
  {
   "cell_type": "code",
   "execution_count": 101,
   "id": "6863f6d7-4e8b-4419-aff0-70a96838d980",
   "metadata": {
    "tags": []
   },
   "outputs": [
    {
     "data": {
      "text/plain": [
       "54.62"
      ]
     },
     "execution_count": 101,
     "metadata": {},
     "output_type": "execute_result"
    }
   ],
   "source": [
    "svm_score_6 = run_cv_model(SVC,x_train,y_train , C = 0.1,kernel='poly')\n",
    "svm_score_6"
   ]
  },
  {
   "cell_type": "code",
   "execution_count": 102,
   "id": "65e8fd2e-e24b-4b16-9aae-950010c6f5ee",
   "metadata": {
    "tags": []
   },
   "outputs": [
    {
     "data": {
      "text/html": [
       "<div>\n",
       "<style scoped>\n",
       "    .dataframe tbody tr th:only-of-type {\n",
       "        vertical-align: middle;\n",
       "    }\n",
       "\n",
       "    .dataframe tbody tr th {\n",
       "        vertical-align: top;\n",
       "    }\n",
       "\n",
       "    .dataframe thead th {\n",
       "        text-align: right;\n",
       "    }\n",
       "</style>\n",
       "<table border=\"1\" class=\"dataframe\">\n",
       "  <thead>\n",
       "    <tr style=\"text-align: right;\">\n",
       "      <th></th>\n",
       "      <th>Model</th>\n",
       "      <th>Score</th>\n",
       "    </tr>\n",
       "  </thead>\n",
       "  <tbody>\n",
       "    <tr>\n",
       "      <th>0</th>\n",
       "      <td>Gradient boosting</td>\n",
       "      <td>75.82</td>\n",
       "    </tr>\n",
       "    <tr>\n",
       "      <th>1</th>\n",
       "      <td>Gradient boosting</td>\n",
       "      <td>74.02</td>\n",
       "    </tr>\n",
       "    <tr>\n",
       "      <th>2</th>\n",
       "      <td>Gradient boosting</td>\n",
       "      <td>74.92</td>\n",
       "    </tr>\n",
       "    <tr>\n",
       "      <th>3</th>\n",
       "      <td>Random forest</td>\n",
       "      <td>83.26</td>\n",
       "    </tr>\n",
       "    <tr>\n",
       "      <th>4</th>\n",
       "      <td>Random forest</td>\n",
       "      <td>83.25</td>\n",
       "    </tr>\n",
       "    <tr>\n",
       "      <th>5</th>\n",
       "      <td>Random forest</td>\n",
       "      <td>84.12</td>\n",
       "    </tr>\n",
       "    <tr>\n",
       "      <th>6</th>\n",
       "      <td>Random forest</td>\n",
       "      <td>82.80</td>\n",
       "    </tr>\n",
       "    <tr>\n",
       "      <th>7</th>\n",
       "      <td>Adaboost</td>\n",
       "      <td>75.33</td>\n",
       "    </tr>\n",
       "    <tr>\n",
       "      <th>8</th>\n",
       "      <td>Adaboost</td>\n",
       "      <td>71.36</td>\n",
       "    </tr>\n",
       "    <tr>\n",
       "      <th>9</th>\n",
       "      <td>Adaboost</td>\n",
       "      <td>81.08</td>\n",
       "    </tr>\n",
       "    <tr>\n",
       "      <th>10</th>\n",
       "      <td>Adaboost</td>\n",
       "      <td>75.35</td>\n",
       "    </tr>\n",
       "    <tr>\n",
       "      <th>11</th>\n",
       "      <td>SVM</td>\n",
       "      <td>81.06</td>\n",
       "    </tr>\n",
       "    <tr>\n",
       "      <th>12</th>\n",
       "      <td>SVM</td>\n",
       "      <td>83.71</td>\n",
       "    </tr>\n",
       "    <tr>\n",
       "      <th>13</th>\n",
       "      <td>SVM</td>\n",
       "      <td>78.85</td>\n",
       "    </tr>\n",
       "    <tr>\n",
       "      <th>14</th>\n",
       "      <td>SVM</td>\n",
       "      <td>79.30</td>\n",
       "    </tr>\n",
       "    <tr>\n",
       "      <th>15</th>\n",
       "      <td>SVM</td>\n",
       "      <td>82.80</td>\n",
       "    </tr>\n",
       "    <tr>\n",
       "      <th>16</th>\n",
       "      <td>SVM</td>\n",
       "      <td>54.62</td>\n",
       "    </tr>\n",
       "  </tbody>\n",
       "</table>\n",
       "</div>"
      ],
      "text/plain": [
       "                Model  Score\n",
       "0   Gradient boosting  75.82\n",
       "1   Gradient boosting  74.02\n",
       "2   Gradient boosting  74.92\n",
       "3       Random forest  83.26\n",
       "4       Random forest  83.25\n",
       "5       Random forest  84.12\n",
       "6       Random forest  82.80\n",
       "7            Adaboost  75.33\n",
       "8            Adaboost  71.36\n",
       "9            Adaboost  81.08\n",
       "10           Adaboost  75.35\n",
       "11                SVM  81.06\n",
       "12                SVM  83.71\n",
       "13                SVM  78.85\n",
       "14                SVM  79.30\n",
       "15                SVM  82.80\n",
       "16                SVM  54.62"
      ]
     },
     "execution_count": 102,
     "metadata": {},
     "output_type": "execute_result"
    }
   ],
   "source": [
    "models_names = ['Gradient boosting','Gradient boosting','Gradient boosting','Random forest','Random forest',\n",
    "                'Random forest','Random forest','Adaboost','Adaboost','Adaboost','Adaboost',\n",
    "               'SVM','SVM','SVM','SVM','SVM','SVM']\n",
    "models_scores =[gb_score , gb_score_1,gb_score_2,rf_score_1,rf_score_2,rf_score_3,rf_score_4,\n",
    "               ab_score_1,ab_score_2,ab_score_3,ab_score_4,svm_score_1,svm_score_2,svm_score_3,svm_score_4,svm_score_5,svm_score_6]\n",
    "cross_validation_df = pd.DataFrame({'Model' :models_names,'Score' :models_scores})\n",
    "cross_validation_df"
   ]
  },
  {
   "cell_type": "code",
   "execution_count": 103,
   "id": "e78824f5-2c12-4e25-a70a-14d2609d3f29",
   "metadata": {
    "tags": []
   },
   "outputs": [
    {
     "data": {
      "text/html": [
       "<div>\n",
       "<style scoped>\n",
       "    .dataframe tbody tr th:only-of-type {\n",
       "        vertical-align: middle;\n",
       "    }\n",
       "\n",
       "    .dataframe tbody tr th {\n",
       "        vertical-align: top;\n",
       "    }\n",
       "\n",
       "    .dataframe thead th {\n",
       "        text-align: right;\n",
       "    }\n",
       "</style>\n",
       "<table border=\"1\" class=\"dataframe\">\n",
       "  <thead>\n",
       "    <tr style=\"text-align: right;\">\n",
       "      <th></th>\n",
       "      <th>Score</th>\n",
       "    </tr>\n",
       "    <tr>\n",
       "      <th>Model</th>\n",
       "      <th></th>\n",
       "    </tr>\n",
       "  </thead>\n",
       "  <tbody>\n",
       "    <tr>\n",
       "      <th>Adaboost</th>\n",
       "      <td>81.08</td>\n",
       "    </tr>\n",
       "    <tr>\n",
       "      <th>Gradient boosting</th>\n",
       "      <td>75.82</td>\n",
       "    </tr>\n",
       "    <tr>\n",
       "      <th>Random forest</th>\n",
       "      <td>84.12</td>\n",
       "    </tr>\n",
       "    <tr>\n",
       "      <th>SVM</th>\n",
       "      <td>83.71</td>\n",
       "    </tr>\n",
       "  </tbody>\n",
       "</table>\n",
       "</div>"
      ],
      "text/plain": [
       "                   Score\n",
       "Model                   \n",
       "Adaboost           81.08\n",
       "Gradient boosting  75.82\n",
       "Random forest      84.12\n",
       "SVM                83.71"
      ]
     },
     "execution_count": 103,
     "metadata": {},
     "output_type": "execute_result"
    }
   ],
   "source": [
    "cross_validation_df.groupby('Model').max()"
   ]
  },
  {
   "cell_type": "markdown",
   "id": "49a43174-7c2e-4121-88c5-859226079485",
   "metadata": {},
   "source": [
    "# Stacking best cross validation from 4 models"
   ]
  },
  {
   "cell_type": "code",
   "execution_count": 104,
   "id": "c18c9a0f-4621-4271-add4-8c3c644d4ed9",
   "metadata": {
    "tags": []
   },
   "outputs": [],
   "source": [
    "def get_oof(classifier, x_train, y_train, x_test,n_folds,**params):\n",
    "    oof_train = np.zeros(x_train.shape[0])\n",
    "    oof_test = np.zeros(x_test.shape[0])\n",
    "    oof_test_skf = np.empty((n_folds, len(y_test)))\n",
    "   \n",
    "    clf = classifier(**params) \n",
    "    kf = KFold(n_splits=n_folds) \n",
    "    for i, (train_index, valid_index) in enumerate(kf.split(x_train,y_train)):\n",
    "        x_tr = x_train[train_index]\n",
    "        y_tr = y_train[train_index]\n",
    "        x_valid = x_train[valid_index]\n",
    "\n",
    "        clf.fit(x_tr, y_tr)\n",
    "\n",
    "        oof_train[valid_index] = clf.predict(x_valid)\n",
    "        oof_test_skf[i, :] = clf.predict(x_test)\n",
    "\n",
    "    \n",
    "    oof_test[:] = oof_test_skf.mean(axis=0)\n",
    "    return oof_train.reshape(-1, 1), oof_test.reshape(-1, 1)"
   ]
  },
  {
   "cell_type": "code",
   "execution_count": 105,
   "id": "a6599c24-719f-42ca-94de-e19857c2d17d",
   "metadata": {
    "tags": []
   },
   "outputs": [],
   "source": [
    "#start stacking\n",
    "gd_oof_train , gd_oof_test =  get_oof(GradientBoostingClassifier,x_train,y_train ,x_test , 5,learning_rate  = 0.1,n_estimators = 200)\n",
    "rf_oof_train , rf_oof_test =  get_oof(RandomForestClassifier,x_train,y_train ,x_test,5, n_estimators =500 ,criterion ='entropy',max_depth =1)\n",
    "ad_oof_train , ad_oof_test =  get_oof(AdaBoostClassifier,x_train,y_train ,x_test,5, n_estimators = 1000,learning_rate= 0.1)\n",
    "svm_oof_train,svm_oof_test =  get_oof(SVC,x_train,y_train ,x_test,5, C= 0.1,kernel='linear')"
   ]
  },
  {
   "cell_type": "code",
   "execution_count": 106,
   "id": "70b928c3-c46c-4716-81ca-2db39a2b9c6b",
   "metadata": {
    "tags": []
   },
   "outputs": [
    {
     "data": {
      "text/html": [
       "<div>\n",
       "<style scoped>\n",
       "    .dataframe tbody tr th:only-of-type {\n",
       "        vertical-align: middle;\n",
       "    }\n",
       "\n",
       "    .dataframe tbody tr th {\n",
       "        vertical-align: top;\n",
       "    }\n",
       "\n",
       "    .dataframe thead th {\n",
       "        text-align: right;\n",
       "    }\n",
       "</style>\n",
       "<table border=\"1\" class=\"dataframe\">\n",
       "  <thead>\n",
       "    <tr style=\"text-align: right;\">\n",
       "      <th></th>\n",
       "      <th>Gradient boosting</th>\n",
       "      <th>Random forest</th>\n",
       "      <th>Adaboost</th>\n",
       "      <th>SVM</th>\n",
       "    </tr>\n",
       "  </thead>\n",
       "  <tbody>\n",
       "    <tr>\n",
       "      <th>0</th>\n",
       "      <td>1.0</td>\n",
       "      <td>1.0</td>\n",
       "      <td>1.0</td>\n",
       "      <td>1.0</td>\n",
       "    </tr>\n",
       "    <tr>\n",
       "      <th>1</th>\n",
       "      <td>1.0</td>\n",
       "      <td>1.0</td>\n",
       "      <td>1.0</td>\n",
       "      <td>1.0</td>\n",
       "    </tr>\n",
       "    <tr>\n",
       "      <th>2</th>\n",
       "      <td>0.0</td>\n",
       "      <td>0.0</td>\n",
       "      <td>0.0</td>\n",
       "      <td>0.0</td>\n",
       "    </tr>\n",
       "    <tr>\n",
       "      <th>3</th>\n",
       "      <td>0.0</td>\n",
       "      <td>0.0</td>\n",
       "      <td>0.0</td>\n",
       "      <td>0.0</td>\n",
       "    </tr>\n",
       "    <tr>\n",
       "      <th>4</th>\n",
       "      <td>0.0</td>\n",
       "      <td>0.0</td>\n",
       "      <td>0.0</td>\n",
       "      <td>0.0</td>\n",
       "    </tr>\n",
       "  </tbody>\n",
       "</table>\n",
       "</div>"
      ],
      "text/plain": [
       "   Gradient boosting  Random forest  Adaboost  SVM\n",
       "0                1.0            1.0       1.0  1.0\n",
       "1                1.0            1.0       1.0  1.0\n",
       "2                0.0            0.0       0.0  0.0\n",
       "3                0.0            0.0       0.0  0.0\n",
       "4                0.0            0.0       0.0  0.0"
      ]
     },
     "execution_count": 106,
     "metadata": {},
     "output_type": "execute_result"
    }
   ],
   "source": [
    "#construct new training set from stacking\n",
    "x_stacking_train = pd.DataFrame({'Gradient boosting':gd_oof_train.flatten() , 'Random forest': rf_oof_train.flatten(),\n",
    "                                'Adaboost' : ad_oof_train.flatten() , 'SVM':svm_oof_train.flatten()})\n",
    "\n",
    "x_stacking_train.head()"
   ]
  },
  {
   "cell_type": "markdown",
   "id": "f605347c-da79-4a2b-a382-5aa7590cead7",
   "metadata": {
    "tags": []
   },
   "source": [
    "_Stage 2 in stacking run the stacking train data through another boosting meta model_"
   ]
  },
  {
   "cell_type": "code",
   "execution_count": 107,
   "id": "1211d4fd-828e-42cb-895a-4d10765f0d26",
   "metadata": {
    "tags": []
   },
   "outputs": [],
   "source": [
    "x_stacking_test =np.c_[gd_oof_test,rf_oof_test]\n",
    "x_stacking_test = np.c_[x_stacking_test,ad_oof_test]\n",
    "x_stacking_test = np.c_[x_stacking_test,svm_oof_test]"
   ]
  },
  {
   "cell_type": "code",
   "execution_count": 108,
   "id": "58f739d8-9573-4e19-aead-4ba5269de217",
   "metadata": {
    "tags": []
   },
   "outputs": [
    {
     "data": {
      "text/plain": [
       "(76, 4)"
      ]
     },
     "execution_count": 108,
     "metadata": {},
     "output_type": "execute_result"
    }
   ],
   "source": [
    "x_stacking_test.shape"
   ]
  },
  {
   "cell_type": "code",
   "execution_count": 109,
   "id": "14cc03b3-4ae3-422f-a915-62c6fa4f84ca",
   "metadata": {
    "tags": []
   },
   "outputs": [
    {
     "name": "stdout",
     "output_type": "stream",
     "text": [
      "Final score for predicting death by heart disease is 88.16\n"
     ]
    }
   ],
   "source": [
    "xgClf = xgb.XGBClassifier(n_estimators= 2000,\n",
    " max_depth= 4,\n",
    " gamma=0.9,\n",
    " nthread= -1,\n",
    " scale_pos_weight=1)\n",
    "\n",
    "xgClf.fit(x_stacking_train.values,y_train)\n",
    "\n",
    "y_pred = xgClf.predict(x_stacking_test)\n",
    "\n",
    "score = round(accuracy_score(y_pred,y_test) * 100,2)\n",
    "\n",
    "print(f'Final score for predicting death by heart disease is {score}')"
   ]
  },
  {
   "cell_type": "code",
   "execution_count": null,
   "id": "5746f5ed-7a75-4cba-bc32-239600912d58",
   "metadata": {},
   "outputs": [],
   "source": []
  }
 ],
 "metadata": {
  "kernelspec": {
   "display_name": "Python 3 (ipykernel)",
   "language": "python",
   "name": "python3"
  },
  "language_info": {
   "codemirror_mode": {
    "name": "ipython",
    "version": 3
   },
   "file_extension": ".py",
   "mimetype": "text/x-python",
   "name": "python",
   "nbconvert_exporter": "python",
   "pygments_lexer": "ipython3",
   "version": "3.11.5"
  }
 },
 "nbformat": 4,
 "nbformat_minor": 5
}
